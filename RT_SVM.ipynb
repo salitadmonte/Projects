{
 "cells": [
  {
   "cell_type": "code",
   "execution_count": 1,
   "metadata": {},
   "outputs": [],
   "source": [
    "#Import Libraries\n",
    "#for maths and stats\n",
    "import numpy as np        \n",
    "import pandas as pd \n",
    "#for visualization\n",
    "import seaborn as sns"
   ]
  },
  {
   "cell_type": "code",
   "execution_count": 2,
   "metadata": {},
   "outputs": [
    {
     "data": {
      "text/html": [
       "<div>\n",
       "<style scoped>\n",
       "    .dataframe tbody tr th:only-of-type {\n",
       "        vertical-align: middle;\n",
       "    }\n",
       "\n",
       "    .dataframe tbody tr th {\n",
       "        vertical-align: top;\n",
       "    }\n",
       "\n",
       "    .dataframe thead th {\n",
       "        text-align: right;\n",
       "    }\n",
       "</style>\n",
       "<table border=\"1\" class=\"dataframe\">\n",
       "  <thead>\n",
       "    <tr style=\"text-align: right;\">\n",
       "      <th></th>\n",
       "      <th>Age</th>\n",
       "      <th>Attrition</th>\n",
       "      <th>BusinessTravel</th>\n",
       "      <th>Department</th>\n",
       "      <th>DistanceFromHome</th>\n",
       "      <th>Education</th>\n",
       "      <th>EducationField</th>\n",
       "      <th>EmployeeCount</th>\n",
       "      <th>EmployeeID</th>\n",
       "      <th>EnvironmentSatisfaction</th>\n",
       "      <th>...</th>\n",
       "      <th>PercentSalaryHike</th>\n",
       "      <th>PerformanceRating</th>\n",
       "      <th>StandardHours</th>\n",
       "      <th>StockOptionLevel</th>\n",
       "      <th>TotalWorkingYears</th>\n",
       "      <th>TrainingTimesLastYear</th>\n",
       "      <th>WorkLifeBalance</th>\n",
       "      <th>YearsAtCompany</th>\n",
       "      <th>YearsSinceLastPromotion</th>\n",
       "      <th>YearsWithCurrManager</th>\n",
       "    </tr>\n",
       "  </thead>\n",
       "  <tbody>\n",
       "    <tr>\n",
       "      <th>0</th>\n",
       "      <td>51</td>\n",
       "      <td>No</td>\n",
       "      <td>Travel_Rarely</td>\n",
       "      <td>Sales</td>\n",
       "      <td>6</td>\n",
       "      <td>2</td>\n",
       "      <td>Life Sciences</td>\n",
       "      <td>1</td>\n",
       "      <td>1</td>\n",
       "      <td>3.0</td>\n",
       "      <td>...</td>\n",
       "      <td>11</td>\n",
       "      <td>3</td>\n",
       "      <td>8</td>\n",
       "      <td>0</td>\n",
       "      <td>1.0</td>\n",
       "      <td>6</td>\n",
       "      <td>2.0</td>\n",
       "      <td>1</td>\n",
       "      <td>0</td>\n",
       "      <td>0</td>\n",
       "    </tr>\n",
       "    <tr>\n",
       "      <th>1</th>\n",
       "      <td>31</td>\n",
       "      <td>Yes</td>\n",
       "      <td>Travel_Frequently</td>\n",
       "      <td>Research &amp; Development</td>\n",
       "      <td>10</td>\n",
       "      <td>1</td>\n",
       "      <td>Life Sciences</td>\n",
       "      <td>1</td>\n",
       "      <td>2</td>\n",
       "      <td>3.0</td>\n",
       "      <td>...</td>\n",
       "      <td>23</td>\n",
       "      <td>4</td>\n",
       "      <td>8</td>\n",
       "      <td>1</td>\n",
       "      <td>6.0</td>\n",
       "      <td>3</td>\n",
       "      <td>4.0</td>\n",
       "      <td>5</td>\n",
       "      <td>1</td>\n",
       "      <td>4</td>\n",
       "    </tr>\n",
       "    <tr>\n",
       "      <th>2</th>\n",
       "      <td>32</td>\n",
       "      <td>No</td>\n",
       "      <td>Travel_Frequently</td>\n",
       "      <td>Research &amp; Development</td>\n",
       "      <td>17</td>\n",
       "      <td>4</td>\n",
       "      <td>Other</td>\n",
       "      <td>1</td>\n",
       "      <td>3</td>\n",
       "      <td>2.0</td>\n",
       "      <td>...</td>\n",
       "      <td>15</td>\n",
       "      <td>3</td>\n",
       "      <td>8</td>\n",
       "      <td>3</td>\n",
       "      <td>5.0</td>\n",
       "      <td>2</td>\n",
       "      <td>1.0</td>\n",
       "      <td>5</td>\n",
       "      <td>0</td>\n",
       "      <td>3</td>\n",
       "    </tr>\n",
       "    <tr>\n",
       "      <th>3</th>\n",
       "      <td>38</td>\n",
       "      <td>No</td>\n",
       "      <td>Non-Travel</td>\n",
       "      <td>Research &amp; Development</td>\n",
       "      <td>2</td>\n",
       "      <td>5</td>\n",
       "      <td>Life Sciences</td>\n",
       "      <td>1</td>\n",
       "      <td>4</td>\n",
       "      <td>4.0</td>\n",
       "      <td>...</td>\n",
       "      <td>11</td>\n",
       "      <td>3</td>\n",
       "      <td>8</td>\n",
       "      <td>3</td>\n",
       "      <td>13.0</td>\n",
       "      <td>5</td>\n",
       "      <td>3.0</td>\n",
       "      <td>8</td>\n",
       "      <td>7</td>\n",
       "      <td>5</td>\n",
       "    </tr>\n",
       "    <tr>\n",
       "      <th>4</th>\n",
       "      <td>32</td>\n",
       "      <td>No</td>\n",
       "      <td>Travel_Rarely</td>\n",
       "      <td>Research &amp; Development</td>\n",
       "      <td>10</td>\n",
       "      <td>1</td>\n",
       "      <td>Medical</td>\n",
       "      <td>1</td>\n",
       "      <td>5</td>\n",
       "      <td>4.0</td>\n",
       "      <td>...</td>\n",
       "      <td>12</td>\n",
       "      <td>3</td>\n",
       "      <td>8</td>\n",
       "      <td>2</td>\n",
       "      <td>9.0</td>\n",
       "      <td>2</td>\n",
       "      <td>3.0</td>\n",
       "      <td>6</td>\n",
       "      <td>0</td>\n",
       "      <td>4</td>\n",
       "    </tr>\n",
       "    <tr>\n",
       "      <th>5</th>\n",
       "      <td>46</td>\n",
       "      <td>No</td>\n",
       "      <td>Travel_Rarely</td>\n",
       "      <td>Research &amp; Development</td>\n",
       "      <td>8</td>\n",
       "      <td>3</td>\n",
       "      <td>Life Sciences</td>\n",
       "      <td>1</td>\n",
       "      <td>6</td>\n",
       "      <td>3.0</td>\n",
       "      <td>...</td>\n",
       "      <td>13</td>\n",
       "      <td>3</td>\n",
       "      <td>8</td>\n",
       "      <td>0</td>\n",
       "      <td>28.0</td>\n",
       "      <td>5</td>\n",
       "      <td>2.0</td>\n",
       "      <td>7</td>\n",
       "      <td>7</td>\n",
       "      <td>7</td>\n",
       "    </tr>\n",
       "    <tr>\n",
       "      <th>6</th>\n",
       "      <td>28</td>\n",
       "      <td>Yes</td>\n",
       "      <td>Travel_Rarely</td>\n",
       "      <td>Research &amp; Development</td>\n",
       "      <td>11</td>\n",
       "      <td>2</td>\n",
       "      <td>Medical</td>\n",
       "      <td>1</td>\n",
       "      <td>7</td>\n",
       "      <td>1.0</td>\n",
       "      <td>...</td>\n",
       "      <td>20</td>\n",
       "      <td>4</td>\n",
       "      <td>8</td>\n",
       "      <td>1</td>\n",
       "      <td>5.0</td>\n",
       "      <td>2</td>\n",
       "      <td>1.0</td>\n",
       "      <td>0</td>\n",
       "      <td>0</td>\n",
       "      <td>0</td>\n",
       "    </tr>\n",
       "  </tbody>\n",
       "</table>\n",
       "<p>7 rows × 29 columns</p>\n",
       "</div>"
      ],
      "text/plain": [
       "   Age Attrition     BusinessTravel              Department  DistanceFromHome  \\\n",
       "0   51        No      Travel_Rarely                   Sales                 6   \n",
       "1   31       Yes  Travel_Frequently  Research & Development                10   \n",
       "2   32        No  Travel_Frequently  Research & Development                17   \n",
       "3   38        No         Non-Travel  Research & Development                 2   \n",
       "4   32        No      Travel_Rarely  Research & Development                10   \n",
       "5   46        No      Travel_Rarely  Research & Development                 8   \n",
       "6   28       Yes      Travel_Rarely  Research & Development                11   \n",
       "\n",
       "   Education EducationField  EmployeeCount  EmployeeID  \\\n",
       "0          2  Life Sciences              1           1   \n",
       "1          1  Life Sciences              1           2   \n",
       "2          4          Other              1           3   \n",
       "3          5  Life Sciences              1           4   \n",
       "4          1        Medical              1           5   \n",
       "5          3  Life Sciences              1           6   \n",
       "6          2        Medical              1           7   \n",
       "\n",
       "   EnvironmentSatisfaction  ... PercentSalaryHike  PerformanceRating  \\\n",
       "0                      3.0  ...                11                  3   \n",
       "1                      3.0  ...                23                  4   \n",
       "2                      2.0  ...                15                  3   \n",
       "3                      4.0  ...                11                  3   \n",
       "4                      4.0  ...                12                  3   \n",
       "5                      3.0  ...                13                  3   \n",
       "6                      1.0  ...                20                  4   \n",
       "\n",
       "   StandardHours  StockOptionLevel TotalWorkingYears TrainingTimesLastYear  \\\n",
       "0              8                 0               1.0                     6   \n",
       "1              8                 1               6.0                     3   \n",
       "2              8                 3               5.0                     2   \n",
       "3              8                 3              13.0                     5   \n",
       "4              8                 2               9.0                     2   \n",
       "5              8                 0              28.0                     5   \n",
       "6              8                 1               5.0                     2   \n",
       "\n",
       "   WorkLifeBalance  YearsAtCompany YearsSinceLastPromotion  \\\n",
       "0              2.0               1                       0   \n",
       "1              4.0               5                       1   \n",
       "2              1.0               5                       0   \n",
       "3              3.0               8                       7   \n",
       "4              3.0               6                       0   \n",
       "5              2.0               7                       7   \n",
       "6              1.0               0                       0   \n",
       "\n",
       "   YearsWithCurrManager  \n",
       "0                     0  \n",
       "1                     4  \n",
       "2                     3  \n",
       "3                     5  \n",
       "4                     4  \n",
       "5                     7  \n",
       "6                     0  \n",
       "\n",
       "[7 rows x 29 columns]"
      ]
     },
     "execution_count": 2,
     "metadata": {},
     "output_type": "execute_result"
    }
   ],
   "source": [
    "df = pd.read_csv('data.csv') \n",
    "df.head(7) #Print the first 7 rows"
   ]
  },
  {
   "cell_type": "code",
   "execution_count": 3,
   "metadata": {},
   "outputs": [
    {
     "data": {
      "text/plain": [
       "(4410, 29)"
      ]
     },
     "execution_count": 3,
     "metadata": {},
     "output_type": "execute_result"
    }
   ],
   "source": [
    "#Get the number of rows and number of columns in the data\n",
    "df.shape"
   ]
  },
  {
   "cell_type": "code",
   "execution_count": 4,
   "metadata": {},
   "outputs": [
    {
     "data": {
      "text/plain": [
       "Age                          int64\n",
       "Attrition                   object\n",
       "BusinessTravel              object\n",
       "Department                  object\n",
       "DistanceFromHome             int64\n",
       "Education                    int64\n",
       "EducationField              object\n",
       "EmployeeCount                int64\n",
       "EmployeeID                   int64\n",
       "EnvironmentSatisfaction    float64\n",
       "Gender                      object\n",
       "JobInvolvement               int64\n",
       "JobLevel                     int64\n",
       "JobSatisfaction            float64\n",
       "JobRole                     object\n",
       "MaritalStatus               object\n",
       "MonthlyIncome                int64\n",
       "NumCompaniesWorked         float64\n",
       "Over18                      object\n",
       "PercentSalaryHike            int64\n",
       "PerformanceRating            int64\n",
       "StandardHours                int64\n",
       "StockOptionLevel             int64\n",
       "TotalWorkingYears          float64\n",
       "TrainingTimesLastYear        int64\n",
       "WorkLifeBalance            float64\n",
       "YearsAtCompany               int64\n",
       "YearsSinceLastPromotion      int64\n",
       "YearsWithCurrManager         int64\n",
       "dtype: object"
      ]
     },
     "execution_count": 4,
     "metadata": {},
     "output_type": "execute_result"
    }
   ],
   "source": [
    "#Get the column data types\n",
    "df.dtypes"
   ]
  },
  {
   "cell_type": "code",
   "execution_count": 5,
   "metadata": {},
   "outputs": [
    {
     "data": {
      "text/plain": [
       "Age                         0\n",
       "Attrition                   0\n",
       "BusinessTravel              0\n",
       "Department                  0\n",
       "DistanceFromHome            0\n",
       "Education                   0\n",
       "EducationField              0\n",
       "EmployeeCount               0\n",
       "EmployeeID                  0\n",
       "EnvironmentSatisfaction    25\n",
       "Gender                      0\n",
       "JobInvolvement              0\n",
       "JobLevel                    0\n",
       "JobSatisfaction            20\n",
       "JobRole                     0\n",
       "MaritalStatus               0\n",
       "MonthlyIncome               0\n",
       "NumCompaniesWorked         19\n",
       "Over18                      0\n",
       "PercentSalaryHike           0\n",
       "PerformanceRating           0\n",
       "StandardHours               0\n",
       "StockOptionLevel            0\n",
       "TotalWorkingYears           9\n",
       "TrainingTimesLastYear       0\n",
       "WorkLifeBalance            38\n",
       "YearsAtCompany              0\n",
       "YearsSinceLastPromotion     0\n",
       "YearsWithCurrManager        0\n",
       "dtype: int64"
      ]
     },
     "execution_count": 5,
     "metadata": {},
     "output_type": "execute_result"
    }
   ],
   "source": [
    "#Count the empty (NaN, NAN, na) values in each column\n",
    "df.isna().sum()"
   ]
  },
  {
   "cell_type": "code",
   "execution_count": 6,
   "metadata": {},
   "outputs": [],
   "source": [
    "df['Education'] = df['Education'].astype(object)\n",
    "df['EnvironmentSatisfaction'] = df['EnvironmentSatisfaction'].astype(object)\n",
    "df['JobInvolvement'] = df['JobInvolvement'].astype(object)\n",
    "df['JobSatisfaction'] = df['JobSatisfaction'].astype(object)\n",
    "df['PerformanceRating'] = df['PerformanceRating'].astype(object)\n",
    "df['WorkLifeBalance'] = df['WorkLifeBalance'].astype(object)\n",
    "#data tpyes of data containing missing values will be changed once we deal with missing values"
   ]
  },
  {
   "cell_type": "code",
   "execution_count": 7,
   "metadata": {},
   "outputs": [
    {
     "data": {
      "text/plain": [
       "Age                          int64\n",
       "Attrition                   object\n",
       "BusinessTravel              object\n",
       "Department                  object\n",
       "DistanceFromHome             int64\n",
       "Education                   object\n",
       "EducationField              object\n",
       "EmployeeCount                int64\n",
       "EmployeeID                   int64\n",
       "EnvironmentSatisfaction     object\n",
       "Gender                      object\n",
       "JobInvolvement              object\n",
       "JobLevel                     int64\n",
       "JobSatisfaction             object\n",
       "JobRole                     object\n",
       "MaritalStatus               object\n",
       "MonthlyIncome                int64\n",
       "NumCompaniesWorked         float64\n",
       "Over18                      object\n",
       "PercentSalaryHike            int64\n",
       "PerformanceRating           object\n",
       "StandardHours                int64\n",
       "StockOptionLevel             int64\n",
       "TotalWorkingYears          float64\n",
       "TrainingTimesLastYear        int64\n",
       "WorkLifeBalance             object\n",
       "YearsAtCompany               int64\n",
       "YearsSinceLastPromotion      int64\n",
       "YearsWithCurrManager         int64\n",
       "dtype: object"
      ]
     },
     "execution_count": 7,
     "metadata": {},
     "output_type": "execute_result"
    }
   ],
   "source": [
    "#changing the types\n",
    "df.dtypes"
   ]
  },
  {
   "cell_type": "code",
   "execution_count": 8,
   "metadata": {},
   "outputs": [],
   "source": [
    "#treating missing values\n",
    "\n",
    "df[\"NumCompaniesWorked\"] = df[\"NumCompaniesWorked\"].fillna(df[\"NumCompaniesWorked\"].mean())\n",
    "df[\"TotalWorkingYears\"] = df[\"TotalWorkingYears\"].fillna(df[\"TotalWorkingYears\"].median())\n",
    "\n",
    "\n",
    "#factor variables replace with mode \n",
    "#if there is outliers then replace median \n",
    "#box plot for outliers\n",
    "#use mice for treating missing values."
   ]
  },
  {
   "cell_type": "code",
   "execution_count": 9,
   "metadata": {},
   "outputs": [],
   "source": [
    "#Mode - missed value\n",
    "import statistics\n",
    "df[\"EnvironmentSatisfaction\"] = df[\"EnvironmentSatisfaction\"].replace(np.NaN, statistics.mode(df[\"EnvironmentSatisfaction\"]))\n",
    "df[\"JobSatisfaction\"] = df[\"JobSatisfaction\"].replace(np.NaN, statistics.mode(df[\"JobSatisfaction\"]))\n",
    "df[\"WorkLifeBalance\"] = df[\"WorkLifeBalance\"].replace(np.NaN, statistics.mode(df[\"WorkLifeBalance\"]))"
   ]
  },
  {
   "cell_type": "code",
   "execution_count": 10,
   "metadata": {},
   "outputs": [
    {
     "data": {
      "text/plain": [
       "Age                        0\n",
       "Attrition                  0\n",
       "BusinessTravel             0\n",
       "Department                 0\n",
       "DistanceFromHome           0\n",
       "Education                  0\n",
       "EducationField             0\n",
       "EmployeeCount              0\n",
       "EmployeeID                 0\n",
       "EnvironmentSatisfaction    0\n",
       "Gender                     0\n",
       "JobInvolvement             0\n",
       "JobLevel                   0\n",
       "JobSatisfaction            0\n",
       "JobRole                    0\n",
       "MaritalStatus              0\n",
       "MonthlyIncome              0\n",
       "NumCompaniesWorked         0\n",
       "Over18                     0\n",
       "PercentSalaryHike          0\n",
       "PerformanceRating          0\n",
       "StandardHours              0\n",
       "StockOptionLevel           0\n",
       "TotalWorkingYears          0\n",
       "TrainingTimesLastYear      0\n",
       "WorkLifeBalance            0\n",
       "YearsAtCompany             0\n",
       "YearsSinceLastPromotion    0\n",
       "YearsWithCurrManager       0\n",
       "dtype: int64"
      ]
     },
     "execution_count": 10,
     "metadata": {},
     "output_type": "execute_result"
    }
   ],
   "source": [
    "#Count the empty (NaN, NAN, na) values in each column\n",
    "df.isna().sum()"
   ]
  },
  {
   "cell_type": "code",
   "execution_count": 11,
   "metadata": {},
   "outputs": [
    {
     "data": {
      "text/html": [
       "<div>\n",
       "<style scoped>\n",
       "    .dataframe tbody tr th:only-of-type {\n",
       "        vertical-align: middle;\n",
       "    }\n",
       "\n",
       "    .dataframe tbody tr th {\n",
       "        vertical-align: top;\n",
       "    }\n",
       "\n",
       "    .dataframe thead th {\n",
       "        text-align: right;\n",
       "    }\n",
       "</style>\n",
       "<table border=\"1\" class=\"dataframe\">\n",
       "  <thead>\n",
       "    <tr style=\"text-align: right;\">\n",
       "      <th></th>\n",
       "      <th>Age</th>\n",
       "      <th>DistanceFromHome</th>\n",
       "      <th>EmployeeCount</th>\n",
       "      <th>EmployeeID</th>\n",
       "      <th>EnvironmentSatisfaction</th>\n",
       "      <th>JobLevel</th>\n",
       "      <th>JobSatisfaction</th>\n",
       "      <th>MonthlyIncome</th>\n",
       "      <th>NumCompaniesWorked</th>\n",
       "      <th>PercentSalaryHike</th>\n",
       "      <th>StandardHours</th>\n",
       "      <th>StockOptionLevel</th>\n",
       "      <th>TotalWorkingYears</th>\n",
       "      <th>TrainingTimesLastYear</th>\n",
       "      <th>WorkLifeBalance</th>\n",
       "      <th>YearsAtCompany</th>\n",
       "      <th>YearsSinceLastPromotion</th>\n",
       "      <th>YearsWithCurrManager</th>\n",
       "    </tr>\n",
       "  </thead>\n",
       "  <tbody>\n",
       "    <tr>\n",
       "      <th>count</th>\n",
       "      <td>4410.000000</td>\n",
       "      <td>4410.000000</td>\n",
       "      <td>4410.0</td>\n",
       "      <td>4410.000000</td>\n",
       "      <td>4410.000000</td>\n",
       "      <td>4410.000000</td>\n",
       "      <td>4410.000000</td>\n",
       "      <td>4410.000000</td>\n",
       "      <td>4410.000000</td>\n",
       "      <td>4410.000000</td>\n",
       "      <td>4410.0</td>\n",
       "      <td>4410.000000</td>\n",
       "      <td>4410.000000</td>\n",
       "      <td>4410.000000</td>\n",
       "      <td>4410.000000</td>\n",
       "      <td>4410.000000</td>\n",
       "      <td>4410.000000</td>\n",
       "      <td>4410.000000</td>\n",
       "    </tr>\n",
       "    <tr>\n",
       "      <th>mean</th>\n",
       "      <td>36.923810</td>\n",
       "      <td>9.192517</td>\n",
       "      <td>1.0</td>\n",
       "      <td>2205.500000</td>\n",
       "      <td>2.725170</td>\n",
       "      <td>2.063946</td>\n",
       "      <td>2.734014</td>\n",
       "      <td>65029.312925</td>\n",
       "      <td>2.694830</td>\n",
       "      <td>15.209524</td>\n",
       "      <td>8.0</td>\n",
       "      <td>0.793878</td>\n",
       "      <td>11.277324</td>\n",
       "      <td>2.799320</td>\n",
       "      <td>2.763492</td>\n",
       "      <td>7.008163</td>\n",
       "      <td>2.187755</td>\n",
       "      <td>4.123129</td>\n",
       "    </tr>\n",
       "    <tr>\n",
       "      <th>std</th>\n",
       "      <td>9.133301</td>\n",
       "      <td>8.105026</td>\n",
       "      <td>0.0</td>\n",
       "      <td>1273.201673</td>\n",
       "      <td>1.089852</td>\n",
       "      <td>1.106689</td>\n",
       "      <td>1.102071</td>\n",
       "      <td>47068.888559</td>\n",
       "      <td>2.493497</td>\n",
       "      <td>3.659108</td>\n",
       "      <td>0.0</td>\n",
       "      <td>0.851883</td>\n",
       "      <td>7.774490</td>\n",
       "      <td>1.288978</td>\n",
       "      <td>0.703541</td>\n",
       "      <td>6.125135</td>\n",
       "      <td>3.221699</td>\n",
       "      <td>3.567327</td>\n",
       "    </tr>\n",
       "    <tr>\n",
       "      <th>min</th>\n",
       "      <td>18.000000</td>\n",
       "      <td>1.000000</td>\n",
       "      <td>1.0</td>\n",
       "      <td>1.000000</td>\n",
       "      <td>1.000000</td>\n",
       "      <td>1.000000</td>\n",
       "      <td>1.000000</td>\n",
       "      <td>10090.000000</td>\n",
       "      <td>0.000000</td>\n",
       "      <td>11.000000</td>\n",
       "      <td>8.0</td>\n",
       "      <td>0.000000</td>\n",
       "      <td>0.000000</td>\n",
       "      <td>0.000000</td>\n",
       "      <td>1.000000</td>\n",
       "      <td>0.000000</td>\n",
       "      <td>0.000000</td>\n",
       "      <td>0.000000</td>\n",
       "    </tr>\n",
       "    <tr>\n",
       "      <th>25%</th>\n",
       "      <td>30.000000</td>\n",
       "      <td>2.000000</td>\n",
       "      <td>1.0</td>\n",
       "      <td>1103.250000</td>\n",
       "      <td>2.000000</td>\n",
       "      <td>1.000000</td>\n",
       "      <td>2.000000</td>\n",
       "      <td>29110.000000</td>\n",
       "      <td>1.000000</td>\n",
       "      <td>12.000000</td>\n",
       "      <td>8.0</td>\n",
       "      <td>0.000000</td>\n",
       "      <td>6.000000</td>\n",
       "      <td>2.000000</td>\n",
       "      <td>2.000000</td>\n",
       "      <td>3.000000</td>\n",
       "      <td>0.000000</td>\n",
       "      <td>2.000000</td>\n",
       "    </tr>\n",
       "    <tr>\n",
       "      <th>50%</th>\n",
       "      <td>36.000000</td>\n",
       "      <td>7.000000</td>\n",
       "      <td>1.0</td>\n",
       "      <td>2205.500000</td>\n",
       "      <td>3.000000</td>\n",
       "      <td>2.000000</td>\n",
       "      <td>3.000000</td>\n",
       "      <td>49190.000000</td>\n",
       "      <td>2.000000</td>\n",
       "      <td>14.000000</td>\n",
       "      <td>8.0</td>\n",
       "      <td>1.000000</td>\n",
       "      <td>10.000000</td>\n",
       "      <td>3.000000</td>\n",
       "      <td>3.000000</td>\n",
       "      <td>5.000000</td>\n",
       "      <td>1.000000</td>\n",
       "      <td>3.000000</td>\n",
       "    </tr>\n",
       "    <tr>\n",
       "      <th>75%</th>\n",
       "      <td>43.000000</td>\n",
       "      <td>14.000000</td>\n",
       "      <td>1.0</td>\n",
       "      <td>3307.750000</td>\n",
       "      <td>4.000000</td>\n",
       "      <td>3.000000</td>\n",
       "      <td>4.000000</td>\n",
       "      <td>83800.000000</td>\n",
       "      <td>4.000000</td>\n",
       "      <td>18.000000</td>\n",
       "      <td>8.0</td>\n",
       "      <td>1.000000</td>\n",
       "      <td>15.000000</td>\n",
       "      <td>3.000000</td>\n",
       "      <td>3.000000</td>\n",
       "      <td>9.000000</td>\n",
       "      <td>3.000000</td>\n",
       "      <td>7.000000</td>\n",
       "    </tr>\n",
       "    <tr>\n",
       "      <th>max</th>\n",
       "      <td>60.000000</td>\n",
       "      <td>29.000000</td>\n",
       "      <td>1.0</td>\n",
       "      <td>4410.000000</td>\n",
       "      <td>4.000000</td>\n",
       "      <td>5.000000</td>\n",
       "      <td>4.000000</td>\n",
       "      <td>199990.000000</td>\n",
       "      <td>9.000000</td>\n",
       "      <td>25.000000</td>\n",
       "      <td>8.0</td>\n",
       "      <td>3.000000</td>\n",
       "      <td>40.000000</td>\n",
       "      <td>6.000000</td>\n",
       "      <td>4.000000</td>\n",
       "      <td>40.000000</td>\n",
       "      <td>15.000000</td>\n",
       "      <td>17.000000</td>\n",
       "    </tr>\n",
       "  </tbody>\n",
       "</table>\n",
       "</div>"
      ],
      "text/plain": [
       "               Age  DistanceFromHome  EmployeeCount   EmployeeID  \\\n",
       "count  4410.000000       4410.000000         4410.0  4410.000000   \n",
       "mean     36.923810          9.192517            1.0  2205.500000   \n",
       "std       9.133301          8.105026            0.0  1273.201673   \n",
       "min      18.000000          1.000000            1.0     1.000000   \n",
       "25%      30.000000          2.000000            1.0  1103.250000   \n",
       "50%      36.000000          7.000000            1.0  2205.500000   \n",
       "75%      43.000000         14.000000            1.0  3307.750000   \n",
       "max      60.000000         29.000000            1.0  4410.000000   \n",
       "\n",
       "       EnvironmentSatisfaction     JobLevel  JobSatisfaction  MonthlyIncome  \\\n",
       "count              4410.000000  4410.000000      4410.000000    4410.000000   \n",
       "mean                  2.725170     2.063946         2.734014   65029.312925   \n",
       "std                   1.089852     1.106689         1.102071   47068.888559   \n",
       "min                   1.000000     1.000000         1.000000   10090.000000   \n",
       "25%                   2.000000     1.000000         2.000000   29110.000000   \n",
       "50%                   3.000000     2.000000         3.000000   49190.000000   \n",
       "75%                   4.000000     3.000000         4.000000   83800.000000   \n",
       "max                   4.000000     5.000000         4.000000  199990.000000   \n",
       "\n",
       "       NumCompaniesWorked  PercentSalaryHike  StandardHours  StockOptionLevel  \\\n",
       "count         4410.000000        4410.000000         4410.0       4410.000000   \n",
       "mean             2.694830          15.209524            8.0          0.793878   \n",
       "std              2.493497           3.659108            0.0          0.851883   \n",
       "min              0.000000          11.000000            8.0          0.000000   \n",
       "25%              1.000000          12.000000            8.0          0.000000   \n",
       "50%              2.000000          14.000000            8.0          1.000000   \n",
       "75%              4.000000          18.000000            8.0          1.000000   \n",
       "max              9.000000          25.000000            8.0          3.000000   \n",
       "\n",
       "       TotalWorkingYears  TrainingTimesLastYear  WorkLifeBalance  \\\n",
       "count        4410.000000            4410.000000      4410.000000   \n",
       "mean           11.277324               2.799320         2.763492   \n",
       "std             7.774490               1.288978         0.703541   \n",
       "min             0.000000               0.000000         1.000000   \n",
       "25%             6.000000               2.000000         2.000000   \n",
       "50%            10.000000               3.000000         3.000000   \n",
       "75%            15.000000               3.000000         3.000000   \n",
       "max            40.000000               6.000000         4.000000   \n",
       "\n",
       "       YearsAtCompany  YearsSinceLastPromotion  YearsWithCurrManager  \n",
       "count     4410.000000              4410.000000           4410.000000  \n",
       "mean         7.008163                 2.187755              4.123129  \n",
       "std          6.125135                 3.221699              3.567327  \n",
       "min          0.000000                 0.000000              0.000000  \n",
       "25%          3.000000                 0.000000              2.000000  \n",
       "50%          5.000000                 1.000000              3.000000  \n",
       "75%          9.000000                 3.000000              7.000000  \n",
       "max         40.000000                15.000000             17.000000  "
      ]
     },
     "execution_count": 11,
     "metadata": {},
     "output_type": "execute_result"
    }
   ],
   "source": [
    "#View some basic statistical details like percentile, mean, standard deviation etc.\n",
    "df.describe()\n"
   ]
  },
  {
   "cell_type": "code",
   "execution_count": 12,
   "metadata": {},
   "outputs": [
    {
     "data": {
      "text/plain": [
       "No     3699\n",
       "Yes     711\n",
       "Name: Attrition, dtype: int64"
      ]
     },
     "execution_count": 12,
     "metadata": {},
     "output_type": "execute_result"
    }
   ],
   "source": [
    "#Get a count of the number of employee attrition, the number of employees that stayed (no) and the number that left (yes)\n",
    "#checking whether data is imbalance or not\n",
    "df['Attrition'].value_counts()"
   ]
  },
  {
   "cell_type": "code",
   "execution_count": 13,
   "metadata": {},
   "outputs": [],
   "source": [
    "#hide warning lily ma'am's code\n",
    "import warnings\n",
    "warnings.filterwarnings(\"ignore\")"
   ]
  },
  {
   "cell_type": "code",
   "execution_count": null,
   "metadata": {},
   "outputs": [],
   "source": [
    "#Visualize this count \n",
    "# sns.countplot(df['Attrition'])\n"
   ]
  },
  {
   "cell_type": "code",
   "execution_count": null,
   "metadata": {},
   "outputs": [],
   "source": [
    "#Show the number of employees that left and stayed by age\n",
    "# import matplotlib.pyplot as plt # for visualization\n",
    "# fig_dims = (12, 4)\n",
    "# fig, ax = plt.subplots(figsize=fig_dims)\n",
    "\n",
    "# #ax = axis\n",
    "# sns.countplot(x='Age', hue='Attrition', data = df, palette=\"colorblind\", ax = ax,  edgecolor=sns.color_palette(\"dark\", n_colors = 1));"
   ]
  },
  {
   "cell_type": "code",
   "execution_count": null,
   "metadata": {},
   "outputs": [],
   "source": [
    "#What’s interesting here is that we can see the age with the highest count of employee attrition is age 29 & 31. The age with the highest retention is age 34 & 35."
   ]
  },
  {
   "cell_type": "code",
   "execution_count": null,
   "metadata": {},
   "outputs": [],
   "source": [
    "#Print all of the object data types and their unique values\n",
    "# for column in df.columns:\n",
    "#     if df[column].dtype == object:\n",
    "#         print(str(column) + ' : ' + str(df[column].unique()))\n",
    "#         print(df[column].value_counts())\n",
    "#         print(\"_________________________________________________________________\")"
   ]
  },
  {
   "cell_type": "code",
   "execution_count": 14,
   "metadata": {},
   "outputs": [],
   "source": [
    "#Remove unneeded columns\n",
    "\n",
    "#Remove the column EmployeeID\n",
    "df = df.drop('EmployeeID', axis = 1) # A number assignment \n",
    "#Remove the column StandardHours\n",
    "df = df.drop('StandardHours', axis = 1) #Contains only value 8 \n",
    "#Remove the column EmployeeCount\n",
    "df = df.drop('EmployeeCount', axis = 1) #Contains only the value 1 \n",
    "#Remove the column EmployeeCount\n",
    "df = df.drop('Over18', axis = 1) #Contains only the value 'Yes'"
   ]
  },
  {
   "cell_type": "code",
   "execution_count": 15,
   "metadata": {},
   "outputs": [
    {
     "data": {
      "text/html": [
       "<div>\n",
       "<style scoped>\n",
       "    .dataframe tbody tr th:only-of-type {\n",
       "        vertical-align: middle;\n",
       "    }\n",
       "\n",
       "    .dataframe tbody tr th {\n",
       "        vertical-align: top;\n",
       "    }\n",
       "\n",
       "    .dataframe thead th {\n",
       "        text-align: right;\n",
       "    }\n",
       "</style>\n",
       "<table border=\"1\" class=\"dataframe\">\n",
       "  <thead>\n",
       "    <tr style=\"text-align: right;\">\n",
       "      <th></th>\n",
       "      <th>Age</th>\n",
       "      <th>Attrition</th>\n",
       "      <th>BusinessTravel</th>\n",
       "      <th>Department</th>\n",
       "      <th>DistanceFromHome</th>\n",
       "      <th>Education</th>\n",
       "      <th>EducationField</th>\n",
       "      <th>EnvironmentSatisfaction</th>\n",
       "      <th>Gender</th>\n",
       "      <th>JobInvolvement</th>\n",
       "      <th>...</th>\n",
       "      <th>NumCompaniesWorked</th>\n",
       "      <th>PercentSalaryHike</th>\n",
       "      <th>PerformanceRating</th>\n",
       "      <th>StockOptionLevel</th>\n",
       "      <th>TotalWorkingYears</th>\n",
       "      <th>TrainingTimesLastYear</th>\n",
       "      <th>WorkLifeBalance</th>\n",
       "      <th>YearsAtCompany</th>\n",
       "      <th>YearsSinceLastPromotion</th>\n",
       "      <th>YearsWithCurrManager</th>\n",
       "    </tr>\n",
       "  </thead>\n",
       "  <tbody>\n",
       "    <tr>\n",
       "      <th>0</th>\n",
       "      <td>51</td>\n",
       "      <td>No</td>\n",
       "      <td>Travel_Rarely</td>\n",
       "      <td>Sales</td>\n",
       "      <td>6</td>\n",
       "      <td>2</td>\n",
       "      <td>Life Sciences</td>\n",
       "      <td>3.0</td>\n",
       "      <td>Female</td>\n",
       "      <td>3</td>\n",
       "      <td>...</td>\n",
       "      <td>1.0</td>\n",
       "      <td>11</td>\n",
       "      <td>3</td>\n",
       "      <td>0</td>\n",
       "      <td>1.0</td>\n",
       "      <td>6</td>\n",
       "      <td>2.0</td>\n",
       "      <td>1</td>\n",
       "      <td>0</td>\n",
       "      <td>0</td>\n",
       "    </tr>\n",
       "    <tr>\n",
       "      <th>1</th>\n",
       "      <td>31</td>\n",
       "      <td>Yes</td>\n",
       "      <td>Travel_Frequently</td>\n",
       "      <td>Research &amp; Development</td>\n",
       "      <td>10</td>\n",
       "      <td>1</td>\n",
       "      <td>Life Sciences</td>\n",
       "      <td>3.0</td>\n",
       "      <td>Female</td>\n",
       "      <td>2</td>\n",
       "      <td>...</td>\n",
       "      <td>0.0</td>\n",
       "      <td>23</td>\n",
       "      <td>4</td>\n",
       "      <td>1</td>\n",
       "      <td>6.0</td>\n",
       "      <td>3</td>\n",
       "      <td>4.0</td>\n",
       "      <td>5</td>\n",
       "      <td>1</td>\n",
       "      <td>4</td>\n",
       "    </tr>\n",
       "    <tr>\n",
       "      <th>2</th>\n",
       "      <td>32</td>\n",
       "      <td>No</td>\n",
       "      <td>Travel_Frequently</td>\n",
       "      <td>Research &amp; Development</td>\n",
       "      <td>17</td>\n",
       "      <td>4</td>\n",
       "      <td>Other</td>\n",
       "      <td>2.0</td>\n",
       "      <td>Male</td>\n",
       "      <td>3</td>\n",
       "      <td>...</td>\n",
       "      <td>1.0</td>\n",
       "      <td>15</td>\n",
       "      <td>3</td>\n",
       "      <td>3</td>\n",
       "      <td>5.0</td>\n",
       "      <td>2</td>\n",
       "      <td>1.0</td>\n",
       "      <td>5</td>\n",
       "      <td>0</td>\n",
       "      <td>3</td>\n",
       "    </tr>\n",
       "    <tr>\n",
       "      <th>3</th>\n",
       "      <td>38</td>\n",
       "      <td>No</td>\n",
       "      <td>Non-Travel</td>\n",
       "      <td>Research &amp; Development</td>\n",
       "      <td>2</td>\n",
       "      <td>5</td>\n",
       "      <td>Life Sciences</td>\n",
       "      <td>4.0</td>\n",
       "      <td>Male</td>\n",
       "      <td>2</td>\n",
       "      <td>...</td>\n",
       "      <td>3.0</td>\n",
       "      <td>11</td>\n",
       "      <td>3</td>\n",
       "      <td>3</td>\n",
       "      <td>13.0</td>\n",
       "      <td>5</td>\n",
       "      <td>3.0</td>\n",
       "      <td>8</td>\n",
       "      <td>7</td>\n",
       "      <td>5</td>\n",
       "    </tr>\n",
       "    <tr>\n",
       "      <th>4</th>\n",
       "      <td>32</td>\n",
       "      <td>No</td>\n",
       "      <td>Travel_Rarely</td>\n",
       "      <td>Research &amp; Development</td>\n",
       "      <td>10</td>\n",
       "      <td>1</td>\n",
       "      <td>Medical</td>\n",
       "      <td>4.0</td>\n",
       "      <td>Male</td>\n",
       "      <td>3</td>\n",
       "      <td>...</td>\n",
       "      <td>4.0</td>\n",
       "      <td>12</td>\n",
       "      <td>3</td>\n",
       "      <td>2</td>\n",
       "      <td>9.0</td>\n",
       "      <td>2</td>\n",
       "      <td>3.0</td>\n",
       "      <td>6</td>\n",
       "      <td>0</td>\n",
       "      <td>4</td>\n",
       "    </tr>\n",
       "  </tbody>\n",
       "</table>\n",
       "<p>5 rows × 25 columns</p>\n",
       "</div>"
      ],
      "text/plain": [
       "   Age Attrition     BusinessTravel              Department  DistanceFromHome  \\\n",
       "0   51        No      Travel_Rarely                   Sales                 6   \n",
       "1   31       Yes  Travel_Frequently  Research & Development                10   \n",
       "2   32        No  Travel_Frequently  Research & Development                17   \n",
       "3   38        No         Non-Travel  Research & Development                 2   \n",
       "4   32        No      Travel_Rarely  Research & Development                10   \n",
       "\n",
       "  Education EducationField  EnvironmentSatisfaction  Gender JobInvolvement  \\\n",
       "0         2  Life Sciences                      3.0  Female              3   \n",
       "1         1  Life Sciences                      3.0  Female              2   \n",
       "2         4          Other                      2.0    Male              3   \n",
       "3         5  Life Sciences                      4.0    Male              2   \n",
       "4         1        Medical                      4.0    Male              3   \n",
       "\n",
       "   ...  NumCompaniesWorked  PercentSalaryHike PerformanceRating  \\\n",
       "0  ...                 1.0                 11                 3   \n",
       "1  ...                 0.0                 23                 4   \n",
       "2  ...                 1.0                 15                 3   \n",
       "3  ...                 3.0                 11                 3   \n",
       "4  ...                 4.0                 12                 3   \n",
       "\n",
       "  StockOptionLevel  TotalWorkingYears  TrainingTimesLastYear  WorkLifeBalance  \\\n",
       "0                0                1.0                      6              2.0   \n",
       "1                1                6.0                      3              4.0   \n",
       "2                3                5.0                      2              1.0   \n",
       "3                3               13.0                      5              3.0   \n",
       "4                2                9.0                      2              3.0   \n",
       "\n",
       "  YearsAtCompany  YearsSinceLastPromotion  YearsWithCurrManager  \n",
       "0              1                        0                     0  \n",
       "1              5                        1                     4  \n",
       "2              5                        0                     3  \n",
       "3              8                        7                     5  \n",
       "4              6                        0                     4  \n",
       "\n",
       "[5 rows x 25 columns]"
      ]
     },
     "execution_count": 15,
     "metadata": {},
     "output_type": "execute_result"
    }
   ],
   "source": [
    "df.head()"
   ]
  },
  {
   "cell_type": "code",
   "execution_count": 16,
   "metadata": {},
   "outputs": [
    {
     "data": {
      "text/plain": [
       "Age                          int64\n",
       "Attrition                   object\n",
       "BusinessTravel              object\n",
       "Department                  object\n",
       "DistanceFromHome             int64\n",
       "Education                   object\n",
       "EducationField              object\n",
       "EnvironmentSatisfaction    float64\n",
       "Gender                      object\n",
       "JobInvolvement              object\n",
       "JobLevel                     int64\n",
       "JobSatisfaction            float64\n",
       "JobRole                     object\n",
       "MaritalStatus               object\n",
       "MonthlyIncome                int64\n",
       "NumCompaniesWorked         float64\n",
       "PercentSalaryHike            int64\n",
       "PerformanceRating           object\n",
       "StockOptionLevel             int64\n",
       "TotalWorkingYears          float64\n",
       "TrainingTimesLastYear        int64\n",
       "WorkLifeBalance            float64\n",
       "YearsAtCompany               int64\n",
       "YearsSinceLastPromotion      int64\n",
       "YearsWithCurrManager         int64\n",
       "dtype: object"
      ]
     },
     "execution_count": 16,
     "metadata": {},
     "output_type": "execute_result"
    }
   ],
   "source": [
    "df.dtypes"
   ]
  },
  {
   "cell_type": "code",
   "execution_count": null,
   "metadata": {},
   "outputs": [],
   "source": [
    "#Visualize the correlation\n",
    "# plt.figure(figsize=(14,14))  #14in by 14in\n",
    "# sns.heatmap(df.corr(), annot=True, fmt='.0%')"
   ]
  },
  {
   "cell_type": "code",
   "execution_count": 17,
   "metadata": {},
   "outputs": [
    {
     "data": {
      "text/html": [
       "<div>\n",
       "<style scoped>\n",
       "    .dataframe tbody tr th:only-of-type {\n",
       "        vertical-align: middle;\n",
       "    }\n",
       "\n",
       "    .dataframe tbody tr th {\n",
       "        vertical-align: top;\n",
       "    }\n",
       "\n",
       "    .dataframe thead th {\n",
       "        text-align: right;\n",
       "    }\n",
       "</style>\n",
       "<table border=\"1\" class=\"dataframe\">\n",
       "  <thead>\n",
       "    <tr style=\"text-align: right;\">\n",
       "      <th></th>\n",
       "      <th>Age</th>\n",
       "      <th>Attrition</th>\n",
       "      <th>BusinessTravel</th>\n",
       "      <th>Department</th>\n",
       "      <th>DistanceFromHome</th>\n",
       "      <th>Education</th>\n",
       "      <th>EducationField</th>\n",
       "      <th>EnvironmentSatisfaction</th>\n",
       "      <th>Gender</th>\n",
       "      <th>JobInvolvement</th>\n",
       "      <th>...</th>\n",
       "      <th>NumCompaniesWorked</th>\n",
       "      <th>PercentSalaryHike</th>\n",
       "      <th>PerformanceRating</th>\n",
       "      <th>StockOptionLevel</th>\n",
       "      <th>TotalWorkingYears</th>\n",
       "      <th>TrainingTimesLastYear</th>\n",
       "      <th>WorkLifeBalance</th>\n",
       "      <th>YearsAtCompany</th>\n",
       "      <th>YearsSinceLastPromotion</th>\n",
       "      <th>YearsWithCurrManager</th>\n",
       "    </tr>\n",
       "  </thead>\n",
       "  <tbody>\n",
       "    <tr>\n",
       "      <th>0</th>\n",
       "      <td>51</td>\n",
       "      <td>No</td>\n",
       "      <td>Travel_Rarely</td>\n",
       "      <td>Sales</td>\n",
       "      <td>6</td>\n",
       "      <td>2</td>\n",
       "      <td>Life Sciences</td>\n",
       "      <td>3.0</td>\n",
       "      <td>Female</td>\n",
       "      <td>3</td>\n",
       "      <td>...</td>\n",
       "      <td>1.0</td>\n",
       "      <td>11</td>\n",
       "      <td>3</td>\n",
       "      <td>0</td>\n",
       "      <td>1.0</td>\n",
       "      <td>6</td>\n",
       "      <td>2.0</td>\n",
       "      <td>1</td>\n",
       "      <td>0</td>\n",
       "      <td>0</td>\n",
       "    </tr>\n",
       "    <tr>\n",
       "      <th>1</th>\n",
       "      <td>31</td>\n",
       "      <td>Yes</td>\n",
       "      <td>Travel_Frequently</td>\n",
       "      <td>Research &amp; Development</td>\n",
       "      <td>10</td>\n",
       "      <td>1</td>\n",
       "      <td>Life Sciences</td>\n",
       "      <td>3.0</td>\n",
       "      <td>Female</td>\n",
       "      <td>2</td>\n",
       "      <td>...</td>\n",
       "      <td>0.0</td>\n",
       "      <td>23</td>\n",
       "      <td>4</td>\n",
       "      <td>1</td>\n",
       "      <td>6.0</td>\n",
       "      <td>3</td>\n",
       "      <td>4.0</td>\n",
       "      <td>5</td>\n",
       "      <td>1</td>\n",
       "      <td>4</td>\n",
       "    </tr>\n",
       "    <tr>\n",
       "      <th>2</th>\n",
       "      <td>32</td>\n",
       "      <td>No</td>\n",
       "      <td>Travel_Frequently</td>\n",
       "      <td>Research &amp; Development</td>\n",
       "      <td>17</td>\n",
       "      <td>4</td>\n",
       "      <td>Other</td>\n",
       "      <td>2.0</td>\n",
       "      <td>Male</td>\n",
       "      <td>3</td>\n",
       "      <td>...</td>\n",
       "      <td>1.0</td>\n",
       "      <td>15</td>\n",
       "      <td>3</td>\n",
       "      <td>3</td>\n",
       "      <td>5.0</td>\n",
       "      <td>2</td>\n",
       "      <td>1.0</td>\n",
       "      <td>5</td>\n",
       "      <td>0</td>\n",
       "      <td>3</td>\n",
       "    </tr>\n",
       "    <tr>\n",
       "      <th>3</th>\n",
       "      <td>38</td>\n",
       "      <td>No</td>\n",
       "      <td>Non-Travel</td>\n",
       "      <td>Research &amp; Development</td>\n",
       "      <td>2</td>\n",
       "      <td>5</td>\n",
       "      <td>Life Sciences</td>\n",
       "      <td>4.0</td>\n",
       "      <td>Male</td>\n",
       "      <td>2</td>\n",
       "      <td>...</td>\n",
       "      <td>3.0</td>\n",
       "      <td>11</td>\n",
       "      <td>3</td>\n",
       "      <td>3</td>\n",
       "      <td>13.0</td>\n",
       "      <td>5</td>\n",
       "      <td>3.0</td>\n",
       "      <td>8</td>\n",
       "      <td>7</td>\n",
       "      <td>5</td>\n",
       "    </tr>\n",
       "    <tr>\n",
       "      <th>4</th>\n",
       "      <td>32</td>\n",
       "      <td>No</td>\n",
       "      <td>Travel_Rarely</td>\n",
       "      <td>Research &amp; Development</td>\n",
       "      <td>10</td>\n",
       "      <td>1</td>\n",
       "      <td>Medical</td>\n",
       "      <td>4.0</td>\n",
       "      <td>Male</td>\n",
       "      <td>3</td>\n",
       "      <td>...</td>\n",
       "      <td>4.0</td>\n",
       "      <td>12</td>\n",
       "      <td>3</td>\n",
       "      <td>2</td>\n",
       "      <td>9.0</td>\n",
       "      <td>2</td>\n",
       "      <td>3.0</td>\n",
       "      <td>6</td>\n",
       "      <td>0</td>\n",
       "      <td>4</td>\n",
       "    </tr>\n",
       "    <tr>\n",
       "      <th>...</th>\n",
       "      <td>...</td>\n",
       "      <td>...</td>\n",
       "      <td>...</td>\n",
       "      <td>...</td>\n",
       "      <td>...</td>\n",
       "      <td>...</td>\n",
       "      <td>...</td>\n",
       "      <td>...</td>\n",
       "      <td>...</td>\n",
       "      <td>...</td>\n",
       "      <td>...</td>\n",
       "      <td>...</td>\n",
       "      <td>...</td>\n",
       "      <td>...</td>\n",
       "      <td>...</td>\n",
       "      <td>...</td>\n",
       "      <td>...</td>\n",
       "      <td>...</td>\n",
       "      <td>...</td>\n",
       "      <td>...</td>\n",
       "      <td>...</td>\n",
       "    </tr>\n",
       "    <tr>\n",
       "      <th>4405</th>\n",
       "      <td>42</td>\n",
       "      <td>No</td>\n",
       "      <td>Travel_Rarely</td>\n",
       "      <td>Research &amp; Development</td>\n",
       "      <td>5</td>\n",
       "      <td>4</td>\n",
       "      <td>Medical</td>\n",
       "      <td>4.0</td>\n",
       "      <td>Female</td>\n",
       "      <td>3</td>\n",
       "      <td>...</td>\n",
       "      <td>3.0</td>\n",
       "      <td>17</td>\n",
       "      <td>3</td>\n",
       "      <td>1</td>\n",
       "      <td>10.0</td>\n",
       "      <td>5</td>\n",
       "      <td>3.0</td>\n",
       "      <td>3</td>\n",
       "      <td>0</td>\n",
       "      <td>2</td>\n",
       "    </tr>\n",
       "    <tr>\n",
       "      <th>4406</th>\n",
       "      <td>29</td>\n",
       "      <td>No</td>\n",
       "      <td>Travel_Rarely</td>\n",
       "      <td>Research &amp; Development</td>\n",
       "      <td>2</td>\n",
       "      <td>4</td>\n",
       "      <td>Medical</td>\n",
       "      <td>4.0</td>\n",
       "      <td>Male</td>\n",
       "      <td>2</td>\n",
       "      <td>...</td>\n",
       "      <td>2.0</td>\n",
       "      <td>15</td>\n",
       "      <td>3</td>\n",
       "      <td>0</td>\n",
       "      <td>10.0</td>\n",
       "      <td>2</td>\n",
       "      <td>3.0</td>\n",
       "      <td>3</td>\n",
       "      <td>0</td>\n",
       "      <td>2</td>\n",
       "    </tr>\n",
       "    <tr>\n",
       "      <th>4407</th>\n",
       "      <td>25</td>\n",
       "      <td>No</td>\n",
       "      <td>Travel_Rarely</td>\n",
       "      <td>Research &amp; Development</td>\n",
       "      <td>25</td>\n",
       "      <td>2</td>\n",
       "      <td>Life Sciences</td>\n",
       "      <td>1.0</td>\n",
       "      <td>Male</td>\n",
       "      <td>3</td>\n",
       "      <td>...</td>\n",
       "      <td>0.0</td>\n",
       "      <td>20</td>\n",
       "      <td>4</td>\n",
       "      <td>0</td>\n",
       "      <td>5.0</td>\n",
       "      <td>4</td>\n",
       "      <td>3.0</td>\n",
       "      <td>4</td>\n",
       "      <td>1</td>\n",
       "      <td>2</td>\n",
       "    </tr>\n",
       "    <tr>\n",
       "      <th>4408</th>\n",
       "      <td>42</td>\n",
       "      <td>No</td>\n",
       "      <td>Travel_Rarely</td>\n",
       "      <td>Sales</td>\n",
       "      <td>18</td>\n",
       "      <td>2</td>\n",
       "      <td>Medical</td>\n",
       "      <td>4.0</td>\n",
       "      <td>Male</td>\n",
       "      <td>2</td>\n",
       "      <td>...</td>\n",
       "      <td>0.0</td>\n",
       "      <td>14</td>\n",
       "      <td>3</td>\n",
       "      <td>1</td>\n",
       "      <td>10.0</td>\n",
       "      <td>2</td>\n",
       "      <td>3.0</td>\n",
       "      <td>9</td>\n",
       "      <td>7</td>\n",
       "      <td>8</td>\n",
       "    </tr>\n",
       "    <tr>\n",
       "      <th>4409</th>\n",
       "      <td>40</td>\n",
       "      <td>No</td>\n",
       "      <td>Travel_Rarely</td>\n",
       "      <td>Research &amp; Development</td>\n",
       "      <td>28</td>\n",
       "      <td>3</td>\n",
       "      <td>Medical</td>\n",
       "      <td>1.0</td>\n",
       "      <td>Male</td>\n",
       "      <td>4</td>\n",
       "      <td>...</td>\n",
       "      <td>0.0</td>\n",
       "      <td>12</td>\n",
       "      <td>3</td>\n",
       "      <td>0</td>\n",
       "      <td>10.0</td>\n",
       "      <td>6</td>\n",
       "      <td>3.0</td>\n",
       "      <td>21</td>\n",
       "      <td>3</td>\n",
       "      <td>9</td>\n",
       "    </tr>\n",
       "  </tbody>\n",
       "</table>\n",
       "<p>4410 rows × 25 columns</p>\n",
       "</div>"
      ],
      "text/plain": [
       "      Age Attrition     BusinessTravel              Department  \\\n",
       "0      51        No      Travel_Rarely                   Sales   \n",
       "1      31       Yes  Travel_Frequently  Research & Development   \n",
       "2      32        No  Travel_Frequently  Research & Development   \n",
       "3      38        No         Non-Travel  Research & Development   \n",
       "4      32        No      Travel_Rarely  Research & Development   \n",
       "...   ...       ...                ...                     ...   \n",
       "4405   42        No      Travel_Rarely  Research & Development   \n",
       "4406   29        No      Travel_Rarely  Research & Development   \n",
       "4407   25        No      Travel_Rarely  Research & Development   \n",
       "4408   42        No      Travel_Rarely                   Sales   \n",
       "4409   40        No      Travel_Rarely  Research & Development   \n",
       "\n",
       "      DistanceFromHome Education EducationField  EnvironmentSatisfaction  \\\n",
       "0                    6         2  Life Sciences                      3.0   \n",
       "1                   10         1  Life Sciences                      3.0   \n",
       "2                   17         4          Other                      2.0   \n",
       "3                    2         5  Life Sciences                      4.0   \n",
       "4                   10         1        Medical                      4.0   \n",
       "...                ...       ...            ...                      ...   \n",
       "4405                 5         4        Medical                      4.0   \n",
       "4406                 2         4        Medical                      4.0   \n",
       "4407                25         2  Life Sciences                      1.0   \n",
       "4408                18         2        Medical                      4.0   \n",
       "4409                28         3        Medical                      1.0   \n",
       "\n",
       "      Gender JobInvolvement  ...  NumCompaniesWorked  PercentSalaryHike  \\\n",
       "0     Female              3  ...                 1.0                 11   \n",
       "1     Female              2  ...                 0.0                 23   \n",
       "2       Male              3  ...                 1.0                 15   \n",
       "3       Male              2  ...                 3.0                 11   \n",
       "4       Male              3  ...                 4.0                 12   \n",
       "...      ...            ...  ...                 ...                ...   \n",
       "4405  Female              3  ...                 3.0                 17   \n",
       "4406    Male              2  ...                 2.0                 15   \n",
       "4407    Male              3  ...                 0.0                 20   \n",
       "4408    Male              2  ...                 0.0                 14   \n",
       "4409    Male              4  ...                 0.0                 12   \n",
       "\n",
       "     PerformanceRating StockOptionLevel  TotalWorkingYears  \\\n",
       "0                    3                0                1.0   \n",
       "1                    4                1                6.0   \n",
       "2                    3                3                5.0   \n",
       "3                    3                3               13.0   \n",
       "4                    3                2                9.0   \n",
       "...                ...              ...                ...   \n",
       "4405                 3                1               10.0   \n",
       "4406                 3                0               10.0   \n",
       "4407                 4                0                5.0   \n",
       "4408                 3                1               10.0   \n",
       "4409                 3                0               10.0   \n",
       "\n",
       "      TrainingTimesLastYear  WorkLifeBalance YearsAtCompany  \\\n",
       "0                         6              2.0              1   \n",
       "1                         3              4.0              5   \n",
       "2                         2              1.0              5   \n",
       "3                         5              3.0              8   \n",
       "4                         2              3.0              6   \n",
       "...                     ...              ...            ...   \n",
       "4405                      5              3.0              3   \n",
       "4406                      2              3.0              3   \n",
       "4407                      4              3.0              4   \n",
       "4408                      2              3.0              9   \n",
       "4409                      6              3.0             21   \n",
       "\n",
       "      YearsSinceLastPromotion  YearsWithCurrManager  \n",
       "0                           0                     0  \n",
       "1                           1                     4  \n",
       "2                           0                     3  \n",
       "3                           7                     5  \n",
       "4                           0                     4  \n",
       "...                       ...                   ...  \n",
       "4405                        0                     2  \n",
       "4406                        0                     2  \n",
       "4407                        1                     2  \n",
       "4408                        7                     8  \n",
       "4409                        3                     9  \n",
       "\n",
       "[4410 rows x 25 columns]"
      ]
     },
     "execution_count": 17,
     "metadata": {},
     "output_type": "execute_result"
    }
   ],
   "source": [
    "df"
   ]
  },
  {
   "cell_type": "code",
   "execution_count": 18,
   "metadata": {},
   "outputs": [],
   "source": [
    "from sklearn.preprocessing import LabelEncoder\n",
    "le=LabelEncoder()\n",
    "df.Attrition=le.fit_transform(df.Attrition)\n",
    "df.Gender=le.fit_transform(df.Gender)"
   ]
  },
  {
   "cell_type": "code",
   "execution_count": 19,
   "metadata": {},
   "outputs": [],
   "source": [
    "df=pd.get_dummies(df,drop_first=True)"
   ]
  },
  {
   "cell_type": "code",
   "execution_count": 20,
   "metadata": {},
   "outputs": [
    {
     "data": {
      "text/plain": [
       "Age                                    int64\n",
       "Attrition                              int32\n",
       "DistanceFromHome                       int64\n",
       "EnvironmentSatisfaction              float64\n",
       "Gender                                 int32\n",
       "JobLevel                               int64\n",
       "JobSatisfaction                      float64\n",
       "MonthlyIncome                          int64\n",
       "NumCompaniesWorked                   float64\n",
       "PercentSalaryHike                      int64\n",
       "StockOptionLevel                       int64\n",
       "TotalWorkingYears                    float64\n",
       "TrainingTimesLastYear                  int64\n",
       "WorkLifeBalance                      float64\n",
       "YearsAtCompany                         int64\n",
       "YearsSinceLastPromotion                int64\n",
       "YearsWithCurrManager                   int64\n",
       "BusinessTravel_Travel_Frequently       uint8\n",
       "BusinessTravel_Travel_Rarely           uint8\n",
       "Department_Research & Development      uint8\n",
       "Department_Sales                       uint8\n",
       "Education_2                            uint8\n",
       "Education_3                            uint8\n",
       "Education_4                            uint8\n",
       "Education_5                            uint8\n",
       "EducationField_Life Sciences           uint8\n",
       "EducationField_Marketing               uint8\n",
       "EducationField_Medical                 uint8\n",
       "EducationField_Other                   uint8\n",
       "EducationField_Technical Degree        uint8\n",
       "JobInvolvement_2                       uint8\n",
       "JobInvolvement_3                       uint8\n",
       "JobInvolvement_4                       uint8\n",
       "JobRole_Human Resources                uint8\n",
       "JobRole_Laboratory Technician          uint8\n",
       "JobRole_Manager                        uint8\n",
       "JobRole_Manufacturing Director         uint8\n",
       "JobRole_Research Director              uint8\n",
       "JobRole_Research Scientist             uint8\n",
       "JobRole_Sales Executive                uint8\n",
       "JobRole_Sales Representative           uint8\n",
       "MaritalStatus_Married                  uint8\n",
       "MaritalStatus_Single                   uint8\n",
       "PerformanceRating_4                    uint8\n",
       "dtype: object"
      ]
     },
     "execution_count": 20,
     "metadata": {},
     "output_type": "execute_result"
    }
   ],
   "source": [
    "df.dtypes"
   ]
  },
  {
   "cell_type": "code",
   "execution_count": null,
   "metadata": {},
   "outputs": [],
   "source": []
  },
  {
   "cell_type": "code",
   "execution_count": null,
   "metadata": {
    "scrolled": true
   },
   "outputs": [],
   "source": [
    "# !pip install imblearn"
   ]
  },
  {
   "cell_type": "code",
   "execution_count": 21,
   "metadata": {},
   "outputs": [],
   "source": [
    "X=df.drop(\"Attrition\",axis=\"columns\")\n",
    "y=df[\"Attrition\"]"
   ]
  },
  {
   "cell_type": "code",
   "execution_count": 23,
   "metadata": {},
   "outputs": [],
   "source": [
    "from sklearn.model_selection import train_test_split\n",
    "X_t, X_test, y_t, y_test = train_test_split(X, y, test_size = 0.3, random_state = 0)"
   ]
  },
  {
   "cell_type": "code",
   "execution_count": 24,
   "metadata": {},
   "outputs": [
    {
     "data": {
      "text/plain": [
       "1    2572\n",
       "0    2572\n",
       "Name: Attrition, dtype: int64"
      ]
     },
     "execution_count": 24,
     "metadata": {},
     "output_type": "execute_result"
    }
   ],
   "source": [
    "\n",
    "from imblearn.over_sampling import SMOTE\n",
    "oversample=SMOTE()\n",
    "smote = SMOTE(sampling_strategy=\"minority\")\n",
    "oversample = SMOTE(sampling_strategy=\"minority\")\n",
    "X_sm_t, y_sm_t = oversample.fit_resample(X_t, y_t)\n",
    "y_sm_t.value_counts()\n",
    "\n"
   ]
  },
  {
   "cell_type": "code",
   "execution_count": 26,
   "metadata": {},
   "outputs": [
    {
     "data": {
      "text/plain": [
       "0    1127\n",
       "1     196\n",
       "Name: Attrition, dtype: int64"
      ]
     },
     "execution_count": 26,
     "metadata": {},
     "output_type": "execute_result"
    }
   ],
   "source": [
    "y_test.value_counts()"
   ]
  },
  {
   "cell_type": "code",
   "execution_count": null,
   "metadata": {},
   "outputs": [],
   "source": [
    "\n",
    "\n"
   ]
  },
  {
   "cell_type": "code",
   "execution_count": null,
   "metadata": {},
   "outputs": [],
   "source": []
  },
  {
   "cell_type": "code",
   "execution_count": null,
   "metadata": {
    "scrolled": true
   },
   "outputs": [],
   "source": [
    "#Create a new column at the end of the dataframe that contains the same value \n",
    "# df['Age_Years'] = df['Age']\n",
    "# #Remove the first column called age \n",
    "# df = df.drop('Age', axis = 1)\n",
    "# #Show the dataframe\n",
    "# df"
   ]
  },
  {
   "cell_type": "code",
   "execution_count": null,
   "metadata": {},
   "outputs": [],
   "source": [
    "#Split the data into independent 'X' and dependent 'Y' variables\n",
    "# X = df.iloc[:, 1:df.shape[1]].values \n",
    "# Y = df.iloc[:, 0].values "
   ]
  },
  {
   "cell_type": "code",
   "execution_count": null,
   "metadata": {},
   "outputs": [],
   "source": [
    "# print(X)"
   ]
  },
  {
   "cell_type": "code",
   "execution_count": null,
   "metadata": {},
   "outputs": [],
   "source": [
    "# Y"
   ]
  },
  {
   "cell_type": "code",
   "execution_count": null,
   "metadata": {},
   "outputs": [],
   "source": [
    "# # Split the dataset into 70% Training set and 30% Testing set\n",
    "# from sklearn.model_selection import train_test_split\n",
    "# X_t, X_test, y_t, y_test = train_test_split(X_sm, y_sm, test_size = 0.3, random_state = 0)"
   ]
  },
  {
   "cell_type": "markdown",
   "metadata": {},
   "source": [
    "CODE SVM"
   ]
  },
  {
   "cell_type": "code",
   "execution_count": null,
   "metadata": {},
   "outputs": [],
   "source": [
    "# from sklearn.model_selection import train_test_split  \n",
    "# X_train, X_test, y_train, y_test= train_test_split(X, y, test_size= 0.25, random_state=0)"
   ]
  },
  {
   "cell_type": "code",
   "execution_count": 27,
   "metadata": {},
   "outputs": [
    {
     "data": {
      "text/plain": [
       "SVC(probability=True, random_state=0)"
      ]
     },
     "execution_count": 27,
     "metadata": {},
     "output_type": "execute_result"
    }
   ],
   "source": [
    "from sklearn.svm import SVC # \"Support vector classifier\"  \n",
    "classifier = SVC(kernel='rbf', random_state=0,probability=True)  \n",
    "classifier.fit(X_sm_t, y_sm_t)  "
   ]
  },
  {
   "cell_type": "code",
   "execution_count": 29,
   "metadata": {},
   "outputs": [],
   "source": [
    "from sklearn.metrics import confusion_matrix, accuracy_score, classification_report, roc_auc_score\n",
    "def evaluate(model, X_sm_t, X_test, y_sm_t, y_test):\n",
    "    y_test_pred = model.predict(X_test)\n",
    "    y_train_pred = model.predict(X_t)\n",
    "\n",
    "    print(\"TRAINIG RESULTS: \\n===============================\")\n",
    "    clf_report = pd.DataFrame(classification_report(y_t, y_train_pred, output_dict=True))\n",
    "    print(f\"CONFUSION MATRIX:\\n{confusion_matrix(y_t, y_train_pred)}\")\n",
    "    print(f\"ACCURACY SCORE:\\n{accuracy_score(y_t, y_train_pred):.4f}\")\n",
    "    print(f\"CLASSIFICATION REPORT:\\n{clf_report}\")\n",
    "\n",
    "    print(\"TESTING RESULTS: \\n===============================\")\n",
    "    clf_report = pd.DataFrame(classification_report(y_test, y_test_pred, output_dict=True))\n",
    "    print(f\"CONFUSION MATRIX:\\n{confusion_matrix(y_test, y_test_pred)}\")\n",
    "    print(f\"ACCURACY SCORE:\\n{accuracy_score(y_test, y_test_pred):.4f}\")\n",
    "    print(f\"CLASSIFICATION REPORT:\\n{clf_report}\")"
   ]
  },
  {
   "cell_type": "code",
   "execution_count": 31,
   "metadata": {},
   "outputs": [
    {
     "name": "stdout",
     "output_type": "stream",
     "text": [
      "TRAINIG RESULTS: \n",
      "===============================\n",
      "CONFUSION MATRIX:\n",
      "[[ 641 1931]\n",
      " [ 101  414]]\n",
      "ACCURACY SCORE:\n",
      "0.3418\n",
      "CLASSIFICATION REPORT:\n",
      "                     0           1  accuracy    macro avg  weighted avg\n",
      "precision     0.863881    0.176546  0.341756     0.520214      0.749214\n",
      "recall        0.249222    0.803883  0.341756     0.526553      0.341756\n",
      "f1-score      0.386844    0.289510  0.341756     0.338177      0.370606\n",
      "support    2572.000000  515.000000  0.341756  3087.000000   3087.000000\n",
      "TESTING RESULTS: \n",
      "===============================\n",
      "CONFUSION MATRIX:\n",
      "[[292 835]\n",
      " [ 43 153]]\n",
      "ACCURACY SCORE:\n",
      "0.3364\n",
      "CLASSIFICATION REPORT:\n",
      "                     0           1  accuracy    macro avg  weighted avg\n",
      "precision     0.871642    0.154858  0.336357     0.513250      0.765452\n",
      "recall        0.259095    0.780612  0.336357     0.519854      0.336357\n",
      "f1-score      0.399453    0.258446  0.336357     0.328949      0.378563\n",
      "support    1127.000000  196.000000  0.336357  1323.000000   1323.000000\n"
     ]
    }
   ],
   "source": [
    "from sklearn.svm import SVC\n",
    "\n",
    "# svm_clf = SVC(kernel='rbf',random_state=0,probability=True)\n",
    "# svm_clf.fit(X_t, y_t)\n",
    "\n",
    "evaluate(classifier, X_sm_t, X_test, y_sm_t, y_test)"
   ]
  },
  {
   "cell_type": "code",
   "execution_count": null,
   "metadata": {},
   "outputs": [],
   "source": [
    "y_t"
   ]
  },
  {
   "cell_type": "code",
   "execution_count": null,
   "metadata": {},
   "outputs": [],
   "source": [
    "# evaluate(svm_clf, X_t, X_test, y_t, y_test)"
   ]
  },
  {
   "cell_type": "code",
   "execution_count": null,
   "metadata": {},
   "outputs": [],
   "source": [
    "y_pred= svm_clf.predict(X_test)  "
   ]
  },
  {
   "cell_type": "code",
   "execution_count": null,
   "metadata": {},
   "outputs": [],
   "source": [
    "y_pred"
   ]
  },
  {
   "cell_type": "code",
   "execution_count": null,
   "metadata": {},
   "outputs": [],
   "source": [
    "from sklearn import metrics"
   ]
  },
  {
   "cell_type": "code",
   "execution_count": null,
   "metadata": {},
   "outputs": [],
   "source": [
    "from sklearn.metrics import confusion_matrix  \n",
    "cm= confusion_matrix(y_test , y_pred)  "
   ]
  },
  {
   "cell_type": "code",
   "execution_count": null,
   "metadata": {},
   "outputs": [],
   "source": [
    "print(cm)"
   ]
  },
  {
   "cell_type": "code",
   "execution_count": null,
   "metadata": {},
   "outputs": [],
   "source": [
    "print (metrics.confusion_matrix(y_test, y_pred))"
   ]
  },
  {
   "cell_type": "code",
   "execution_count": 33,
   "metadata": {},
   "outputs": [
    {
     "name": "stdout",
     "output_type": "stream",
     "text": [
      "Training Accuracy:  0.5299377916018663\n",
      "Testing Accuracy:  0.3363567649281935\n"
     ]
    }
   ],
   "source": [
    "print(\"Training Accuracy: \", classifier.score(X_sm_t,y_sm_t))\n",
    "print(\"Testing Accuracy: \", classifier.score(X_test, y_test))"
   ]
  },
  {
   "cell_type": "code",
   "execution_count": 35,
   "metadata": {},
   "outputs": [],
   "source": [
    "from sklearn.metrics import roc_curve\n",
    "\n",
    "pred_prob1 = classifier.predict_proba(X_test)\n",
    "# roc curve for model\n",
    "fpr1, tpr1, thresh1 = roc_curve(y_test, pred_prob1[:,1], pos_label=1)\n",
    "\n",
    "# roc curve for tpr = fpr \n",
    "random_probs = [0 for i in range(len(y_test))]\n",
    "p_fpr, p_tpr, _ = roc_curve(y_test, random_probs, pos_label=1)"
   ]
  },
  {
   "cell_type": "code",
   "execution_count": 36,
   "metadata": {},
   "outputs": [
    {
     "data": {
      "image/png": "[encoded data removed]",
      "text/plain": [
       "<Figure size 576x396 with 1 Axes>"
      ]
     },
     "metadata": {},
     "output_type": "display_data"
    }
   ],
   "source": [
    "#ROC curve\n",
    "import matplotlib.pyplot as plt\n",
    "plt.style.use('seaborn')\n",
    "plt.plot(fpr1, tpr1, linestyle='--',color='orange', label='Support Vector Machine')\n",
    "#plt.plot(p_fpr, p_tpr, linestyle='--', color='blue')\n",
    "plt.title('ROC curve')\n",
    "plt.xlabel('False Positive Rate')\n",
    "plt.ylabel('True Positive rate')\n",
    "\n",
    "plt.legend(loc='best')\n",
    "plt.savefig('ROC',dpi=300)\n",
    "plt.show();"
   ]
  },
  {
   "cell_type": "code",
   "execution_count": 37,
   "metadata": {},
   "outputs": [
    {
     "name": "stdout",
     "output_type": "stream",
     "text": [
      "0.5138280245549862\n"
     ]
    }
   ],
   "source": [
    "#AUC score\n",
    "from sklearn.metrics import roc_auc_score\n",
    "auc_score1 = roc_auc_score(y_test, pred_prob1[:,1])\n",
    "print(auc_score1)"
   ]
  },
  {
   "cell_type": "code",
   "execution_count": null,
   "metadata": {},
   "outputs": [],
   "source": [
    "from sklearn.metrics import classification_report\n",
    "print(classification_report(y_test,y_pred))\n"
   ]
  },
  {
   "cell_type": "markdown",
   "metadata": {},
   "source": [
    "Hyper Para meter tunning"
   ]
  },
  {
   "cell_type": "code",
   "execution_count": 38,
   "metadata": {},
   "outputs": [],
   "source": [
    "from sklearn.model_selection import GridSearchCV\n",
    "\n",
    "# defining parameter range\n",
    "param_grid = {'C': [0.1, 1, 10, 100, 1000],\n",
    "\t\t\t'gamma': [1, 0.1, 0.01, 0.001, 0.0001],\n",
    "\t\t\t'kernel': ['rbf']}\n",
    "\n",
    "\n",
    "\n"
   ]
  },
  {
   "cell_type": "code",
   "execution_count": 39,
   "metadata": {},
   "outputs": [],
   "source": [
    "grid = GridSearchCV(SVC(probability=True), param_grid, refit = True, verbose = 3)"
   ]
  },
  {
   "cell_type": "code",
   "execution_count": 40,
   "metadata": {},
   "outputs": [
    {
     "name": "stdout",
     "output_type": "stream",
     "text": [
      "Fitting 5 folds for each of 25 candidates, totalling 125 fits\n",
      "[CV 1/5] END ........C=0.1, gamma=1, kernel=rbf;, score=0.902 total time=  22.4s\n",
      "[CV 2/5] END ........C=0.1, gamma=1, kernel=rbf;, score=0.671 total time=  23.4s\n",
      "[CV 3/5] END ........C=0.1, gamma=1, kernel=rbf;, score=0.521 total time=  22.2s\n",
      "[CV 4/5] END ........C=0.1, gamma=1, kernel=rbf;, score=0.527 total time= 1.8min\n",
      "[CV 5/5] END ........C=0.1, gamma=1, kernel=rbf;, score=0.611 total time= 1.8min\n",
      "[CV 1/5] END ......C=0.1, gamma=0.1, kernel=rbf;, score=0.930 total time= 1.8min\n",
      "[CV 2/5] END ......C=0.1, gamma=0.1, kernel=rbf;, score=0.715 total time= 1.8min\n",
      "[CV 3/5] END ......C=0.1, gamma=0.1, kernel=rbf;, score=0.532 total time= 1.8min\n",
      "[CV 4/5] END ......C=0.1, gamma=0.1, kernel=rbf;, score=0.531 total time= 1.8min\n",
      "[CV 5/5] END ......C=0.1, gamma=0.1, kernel=rbf;, score=0.622 total time= 2.3min\n",
      "[CV 1/5] END .....C=0.1, gamma=0.01, kernel=rbf;, score=0.607 total time= 2.0min\n",
      "[CV 2/5] END .....C=0.1, gamma=0.01, kernel=rbf;, score=0.614 total time= 2.4min\n",
      "[CV 3/5] END .....C=0.1, gamma=0.01, kernel=rbf;, score=0.573 total time= 1.9min\n",
      "[CV 4/5] END .....C=0.1, gamma=0.01, kernel=rbf;, score=0.589 total time= 1.9min\n",
      "[CV 5/5] END .....C=0.1, gamma=0.01, kernel=rbf;, score=0.612 total time= 1.8min\n",
      "[CV 1/5] END ....C=0.1, gamma=0.001, kernel=rbf;, score=0.686 total time= 1.8min\n",
      "[CV 2/5] END ....C=0.1, gamma=0.001, kernel=rbf;, score=0.685 total time= 1.9min\n",
      "[CV 3/5] END ....C=0.1, gamma=0.001, kernel=rbf;, score=0.674 total time= 1.9min\n",
      "[CV 4/5] END ....C=0.1, gamma=0.001, kernel=rbf;, score=0.681 total time= 1.8min\n",
      "[CV 5/5] END ....C=0.1, gamma=0.001, kernel=rbf;, score=0.701 total time= 1.8min\n",
      "[CV 1/5] END ...C=0.1, gamma=0.0001, kernel=rbf;, score=0.717 total time= 1.8min\n",
      "[CV 2/5] END ...C=0.1, gamma=0.0001, kernel=rbf;, score=0.701 total time= 1.8min\n",
      "[CV 3/5] END ...C=0.1, gamma=0.0001, kernel=rbf;, score=0.716 total time= 1.8min\n",
      "[CV 4/5] END ...C=0.1, gamma=0.0001, kernel=rbf;, score=0.718 total time= 1.8min\n",
      "[CV 5/5] END ...C=0.1, gamma=0.0001, kernel=rbf;, score=0.744 total time= 1.8min\n",
      "[CV 1/5] END ..........C=1, gamma=1, kernel=rbf;, score=0.907 total time= 1.7min\n",
      "[CV 2/5] END ..........C=1, gamma=1, kernel=rbf;, score=0.901 total time= 1.5min\n",
      "[CV 3/5] END ..........C=1, gamma=1, kernel=rbf;, score=0.887 total time= 1.5min\n",
      "[CV 4/5] END ..........C=1, gamma=1, kernel=rbf;, score=0.896 total time= 1.5min\n",
      "[CV 5/5] END ..........C=1, gamma=1, kernel=rbf;, score=0.912 total time= 1.5min\n",
      "[CV 1/5] END ........C=1, gamma=0.1, kernel=rbf;, score=0.913 total time=12.3min\n",
      "[CV 2/5] END ........C=1, gamma=0.1, kernel=rbf;, score=0.906 total time= 1.5min\n",
      "[CV 3/5] END ........C=1, gamma=0.1, kernel=rbf;, score=0.892 total time= 1.3min\n",
      "[CV 4/5] END ........C=1, gamma=0.1, kernel=rbf;, score=0.907 total time= 1.3min\n",
      "[CV 5/5] END ........C=1, gamma=0.1, kernel=rbf;, score=0.917 total time= 1.4min\n",
      "[CV 1/5] END .......C=1, gamma=0.01, kernel=rbf;, score=0.950 total time= 1.3min\n",
      "[CV 2/5] END .......C=1, gamma=0.01, kernel=rbf;, score=0.847 total time= 1.2min\n",
      "[CV 3/5] END .......C=1, gamma=0.01, kernel=rbf;, score=0.860 total time= 1.3min\n",
      "[CV 4/5] END .......C=1, gamma=0.01, kernel=rbf;, score=0.839 total time= 1.2min\n",
      "[CV 5/5] END .......C=1, gamma=0.01, kernel=rbf;, score=0.853 total time= 1.3min\n",
      "[CV 1/5] END ......C=1, gamma=0.001, kernel=rbf;, score=0.909 total time= 1.3min\n",
      "[CV 2/5] END ......C=1, gamma=0.001, kernel=rbf;, score=0.861 total time= 1.2min\n",
      "[CV 3/5] END ......C=1, gamma=0.001, kernel=rbf;, score=0.867 total time= 1.2min\n",
      "[CV 4/5] END ......C=1, gamma=0.001, kernel=rbf;, score=0.846 total time= 1.2min\n",
      "[CV 5/5] END ......C=1, gamma=0.001, kernel=rbf;, score=0.868 total time= 1.3min\n",
      "[CV 1/5] END .....C=1, gamma=0.0001, kernel=rbf;, score=0.816 total time= 1.3min\n",
      "[CV 2/5] END .....C=1, gamma=0.0001, kernel=rbf;, score=0.801 total time= 1.2min\n",
      "[CV 3/5] END .....C=1, gamma=0.0001, kernel=rbf;, score=0.809 total time= 1.2min\n",
      "[CV 4/5] END .....C=1, gamma=0.0001, kernel=rbf;, score=0.782 total time= 1.2min\n",
      "[CV 5/5] END .....C=1, gamma=0.0001, kernel=rbf;, score=0.815 total time= 1.3min\n",
      "[CV 1/5] END .........C=10, gamma=1, kernel=rbf;, score=0.907 total time= 1.4min\n",
      "[CV 2/5] END .........C=10, gamma=1, kernel=rbf;, score=0.902 total time= 1.3min\n",
      "[CV 3/5] END .........C=10, gamma=1, kernel=rbf;, score=0.888 total time= 1.2min\n",
      "[CV 4/5] END .........C=10, gamma=1, kernel=rbf;, score=0.899 total time= 1.2min\n",
      "[CV 5/5] END .........C=10, gamma=1, kernel=rbf;, score=0.912 total time= 1.1min\n",
      "[CV 1/5] END .......C=10, gamma=0.1, kernel=rbf;, score=0.913 total time= 1.3min\n",
      "[CV 2/5] END .......C=10, gamma=0.1, kernel=rbf;, score=0.906 total time= 1.2min\n",
      "[CV 3/5] END .......C=10, gamma=0.1, kernel=rbf;, score=0.892 total time= 1.2min\n",
      "[CV 4/5] END .......C=10, gamma=0.1, kernel=rbf;, score=0.907 total time= 1.1min\n",
      "[CV 5/5] END .......C=10, gamma=0.1, kernel=rbf;, score=0.917 total time= 1.2min\n",
      "[CV 1/5] END ......C=10, gamma=0.01, kernel=rbf;, score=0.950 total time= 1.2min\n",
      "[CV 2/5] END ......C=10, gamma=0.01, kernel=rbf;, score=0.850 total time= 1.1min\n",
      "[CV 3/5] END ......C=10, gamma=0.01, kernel=rbf;, score=0.860 total time= 1.2min\n",
      "[CV 4/5] END ......C=10, gamma=0.01, kernel=rbf;, score=0.843 total time= 1.2min\n",
      "[CV 5/5] END ......C=10, gamma=0.01, kernel=rbf;, score=0.855 total time= 1.1min\n",
      "[CV 1/5] END .....C=10, gamma=0.001, kernel=rbf;, score=0.947 total time= 1.1min\n",
      "[CV 2/5] END .....C=10, gamma=0.001, kernel=rbf;, score=0.896 total time= 1.1min\n",
      "[CV 3/5] END .....C=10, gamma=0.001, kernel=rbf;, score=0.890 total time= 1.1min\n",
      "[CV 4/5] END .....C=10, gamma=0.001, kernel=rbf;, score=0.875 total time= 1.2min\n",
      "[CV 5/5] END .....C=10, gamma=0.001, kernel=rbf;, score=0.898 total time= 1.2min\n",
      "[CV 1/5] END ....C=10, gamma=0.0001, kernel=rbf;, score=0.905 total time= 1.1min\n",
      "[CV 2/5] END ....C=10, gamma=0.0001, kernel=rbf;, score=0.879 total time= 1.1min\n",
      "[CV 3/5] END ....C=10, gamma=0.0001, kernel=rbf;, score=0.882 total time= 1.1min\n",
      "[CV 4/5] END ....C=10, gamma=0.0001, kernel=rbf;, score=0.865 total time= 1.0min\n",
      "[CV 5/5] END ....C=10, gamma=0.0001, kernel=rbf;, score=0.895 total time= 1.1min\n",
      "[CV 1/5] END ........C=100, gamma=1, kernel=rbf;, score=0.907 total time= 1.4min\n",
      "[CV 2/5] END ........C=100, gamma=1, kernel=rbf;, score=0.902 total time= 1.4min\n",
      "[CV 3/5] END ........C=100, gamma=1, kernel=rbf;, score=0.888 total time= 1.5min\n",
      "[CV 4/5] END ........C=100, gamma=1, kernel=rbf;, score=0.899 total time= 1.4min\n",
      "[CV 5/5] END ........C=100, gamma=1, kernel=rbf;, score=0.912 total time= 1.3min\n",
      "[CV 1/5] END ......C=100, gamma=0.1, kernel=rbf;, score=0.913 total time= 1.4min\n",
      "[CV 2/5] END ......C=100, gamma=0.1, kernel=rbf;, score=0.906 total time= 1.3min\n",
      "[CV 3/5] END ......C=100, gamma=0.1, kernel=rbf;, score=0.892 total time= 1.2min\n",
      "[CV 4/5] END ......C=100, gamma=0.1, kernel=rbf;, score=0.907 total time= 1.2min\n",
      "[CV 5/5] END ......C=100, gamma=0.1, kernel=rbf;, score=0.917 total time= 1.2min\n",
      "[CV 1/5] END .....C=100, gamma=0.01, kernel=rbf;, score=0.950 total time= 1.3min\n",
      "[CV 2/5] END .....C=100, gamma=0.01, kernel=rbf;, score=0.850 total time= 1.1min\n",
      "[CV 3/5] END .....C=100, gamma=0.01, kernel=rbf;, score=0.860 total time= 1.2min\n",
      "[CV 4/5] END .....C=100, gamma=0.01, kernel=rbf;, score=0.843 total time= 1.1min\n",
      "[CV 5/5] END .....C=100, gamma=0.01, kernel=rbf;, score=0.855 total time= 1.1min\n",
      "[CV 1/5] END ....C=100, gamma=0.001, kernel=rbf;, score=0.947 total time= 1.1min\n",
      "[CV 2/5] END ....C=100, gamma=0.001, kernel=rbf;, score=0.896 total time= 1.0min\n",
      "[CV 3/5] END ....C=100, gamma=0.001, kernel=rbf;, score=0.889 total time= 1.1min\n",
      "[CV 4/5] END ....C=100, gamma=0.001, kernel=rbf;, score=0.875 total time= 1.1min\n",
      "[CV 5/5] END ....C=100, gamma=0.001, kernel=rbf;, score=0.898 total time= 1.1min\n",
      "[CV 1/5] END ...C=100, gamma=0.0001, kernel=rbf;, score=0.953 total time=  53.0s\n",
      "[CV 2/5] END ...C=100, gamma=0.0001, kernel=rbf;, score=0.914 total time=  50.6s\n",
      "[CV 3/5] END ...C=100, gamma=0.0001, kernel=rbf;, score=0.923 total time=  51.5s\n",
      "[CV 4/5] END ...C=100, gamma=0.0001, kernel=rbf;, score=0.906 total time=  50.8s\n",
      "[CV 5/5] END ...C=100, gamma=0.0001, kernel=rbf;, score=0.932 total time=  50.0s\n",
      "[CV 1/5] END .......C=1000, gamma=1, kernel=rbf;, score=0.907 total time= 1.4min\n"
     ]
    },
    {
     "name": "stdout",
     "output_type": "stream",
     "text": [
      "[CV 2/5] END .......C=1000, gamma=1, kernel=rbf;, score=0.902 total time= 1.3min\n",
      "[CV 3/5] END .......C=1000, gamma=1, kernel=rbf;, score=0.888 total time= 1.2min\n",
      "[CV 4/5] END .......C=1000, gamma=1, kernel=rbf;, score=0.899 total time= 1.2min\n",
      "[CV 5/5] END .......C=1000, gamma=1, kernel=rbf;, score=0.912 total time= 1.2min\n",
      "[CV 1/5] END .....C=1000, gamma=0.1, kernel=rbf;, score=0.913 total time= 1.3min\n",
      "[CV 2/5] END .....C=1000, gamma=0.1, kernel=rbf;, score=0.906 total time= 1.2min\n",
      "[CV 3/5] END .....C=1000, gamma=0.1, kernel=rbf;, score=0.892 total time= 1.2min\n",
      "[CV 4/5] END .....C=1000, gamma=0.1, kernel=rbf;, score=0.907 total time= 1.1min\n",
      "[CV 5/5] END .....C=1000, gamma=0.1, kernel=rbf;, score=0.917 total time= 1.2min\n",
      "[CV 1/5] END ....C=1000, gamma=0.01, kernel=rbf;, score=0.950 total time= 1.2min\n",
      "[CV 2/5] END ....C=1000, gamma=0.01, kernel=rbf;, score=0.850 total time= 1.1min\n",
      "[CV 3/5] END ....C=1000, gamma=0.01, kernel=rbf;, score=0.860 total time= 1.1min\n",
      "[CV 4/5] END ....C=1000, gamma=0.01, kernel=rbf;, score=0.843 total time= 1.2min\n",
      "[CV 5/5] END ....C=1000, gamma=0.01, kernel=rbf;, score=0.855 total time= 1.2min\n",
      "[CV 1/5] END ...C=1000, gamma=0.001, kernel=rbf;, score=0.947 total time= 1.2min\n",
      "[CV 2/5] END ...C=1000, gamma=0.001, kernel=rbf;, score=0.896 total time= 1.1min\n",
      "[CV 3/5] END ...C=1000, gamma=0.001, kernel=rbf;, score=0.889 total time= 1.1min\n",
      "[CV 4/5] END ...C=1000, gamma=0.001, kernel=rbf;, score=0.875 total time= 1.1min\n",
      "[CV 5/5] END ...C=1000, gamma=0.001, kernel=rbf;, score=0.898 total time= 1.1min\n",
      "[CV 1/5] END ..C=1000, gamma=0.0001, kernel=rbf;, score=0.952 total time=  54.2s\n",
      "[CV 2/5] END ..C=1000, gamma=0.0001, kernel=rbf;, score=0.914 total time=  52.3s\n",
      "[CV 3/5] END ..C=1000, gamma=0.0001, kernel=rbf;, score=0.918 total time=  51.2s\n",
      "[CV 4/5] END ..C=1000, gamma=0.0001, kernel=rbf;, score=0.905 total time=  51.5s\n",
      "[CV 5/5] END ..C=1000, gamma=0.0001, kernel=rbf;, score=0.932 total time=  52.2s\n"
     ]
    },
    {
     "data": {
      "text/plain": [
       "GridSearchCV(estimator=SVC(probability=True),\n",
       "             param_grid={'C': [0.1, 1, 10, 100, 1000],\n",
       "                         'gamma': [1, 0.1, 0.01, 0.001, 0.0001],\n",
       "                         'kernel': ['rbf']},\n",
       "             verbose=3)"
      ]
     },
     "execution_count": 40,
     "metadata": {},
     "output_type": "execute_result"
    }
   ],
   "source": [
    "# fitting the model for grid search\n",
    "grid.fit(X_sm_t, y_sm_t)"
   ]
  },
  {
   "cell_type": "code",
   "execution_count": 41,
   "metadata": {},
   "outputs": [
    {
     "name": "stdout",
     "output_type": "stream",
     "text": [
      "{'C': 100, 'gamma': 0.0001, 'kernel': 'rbf'}\n",
      "SVC(C=100, gamma=0.0001, probability=True)\n"
     ]
    }
   ],
   "source": [
    "# print best parameter after tuning\n",
    "print(grid.best_params_)\n",
    "\n",
    "# print how our model looks after hyper-parameter tuning\n",
    "print(grid.best_estimator_)\n"
   ]
  },
  {
   "cell_type": "code",
   "execution_count": 54,
   "metadata": {},
   "outputs": [
    {
     "data": {
      "text/plain": [
       "SVC(C=100, gamma=0.0001, probability=True, random_state=0)"
      ]
     },
     "execution_count": 54,
     "metadata": {},
     "output_type": "execute_result"
    }
   ],
   "source": [
    "from sklearn.svm import SVC # \"Support vector classifier\"  \n",
    "classifier = SVC(kernel='rbf', random_state=0,probability=True,C=100, gamma=0.0001)  \n",
    "classifier.fit(X_sm_t, y_sm_t) "
   ]
  },
  {
   "cell_type": "code",
   "execution_count": 55,
   "metadata": {},
   "outputs": [
    {
     "name": "stdout",
     "output_type": "stream",
     "text": [
      "TRAINIG RESULTS: \n",
      "===============================\n",
      "CONFUSION MATRIX:\n",
      "[[2571    1]\n",
      " [   0  515]]\n",
      "ACCURACY SCORE:\n",
      "0.9997\n",
      "CLASSIFICATION REPORT:\n",
      "                     0           1  accuracy    macro avg  weighted avg\n",
      "precision     1.000000    0.998062  0.999676     0.999031      0.999677\n",
      "recall        0.999611    1.000000  0.999676     0.999806      0.999676\n",
      "f1-score      0.999806    0.999030  0.999676     0.999418      0.999676\n",
      "support    2572.000000  515.000000  0.999676  3087.000000   3087.000000\n",
      "TESTING RESULTS: \n",
      "===============================\n",
      "CONFUSION MATRIX:\n",
      "[[1083   44]\n",
      " [   6  190]]\n",
      "ACCURACY SCORE:\n",
      "0.9622\n",
      "CLASSIFICATION REPORT:\n",
      "                     0           1  accuracy    macro avg  weighted avg\n",
      "precision     0.994490    0.811966  0.962207     0.903228      0.967450\n",
      "recall        0.960958    0.969388  0.962207     0.965173      0.962207\n",
      "f1-score      0.977437    0.883721  0.962207     0.930579      0.963553\n",
      "support    1127.000000  196.000000  0.962207  1323.000000   1323.000000\n"
     ]
    }
   ],
   "source": [
    "evaluate(classifier, X_sm_t, X_test, y_sm_t, y_test)"
   ]
  },
  {
   "cell_type": "code",
   "execution_count": 42,
   "metadata": {},
   "outputs": [
    {
     "name": "stdout",
     "output_type": "stream",
     "text": [
      "              precision    recall  f1-score   support\n",
      "\n",
      "           0       0.99      0.96      0.98      1127\n",
      "           1       0.81      0.97      0.88       196\n",
      "\n",
      "    accuracy                           0.96      1323\n",
      "   macro avg       0.90      0.97      0.93      1323\n",
      "weighted avg       0.97      0.96      0.96      1323\n",
      "\n"
     ]
    }
   ],
   "source": [
    "grid_predictions = grid.predict(X_test)\n",
    "\n",
    "# print classification report\n",
    "\n",
    "print(classification_report(y_test, grid_predictions))\n"
   ]
  },
  {
   "cell_type": "code",
   "execution_count": 44,
   "metadata": {},
   "outputs": [
    {
     "name": "stdout",
     "output_type": "stream",
     "text": [
      "              precision    recall  f1-score   support\n",
      "\n",
      "           0       1.00      1.00      1.00      2572\n",
      "           1       1.00      1.00      1.00      2572\n",
      "\n",
      "    accuracy                           1.00      5144\n",
      "   macro avg       1.00      1.00      1.00      5144\n",
      "weighted avg       1.00      1.00      1.00      5144\n",
      "\n"
     ]
    }
   ],
   "source": [
    "grid_predictions = grid.predict(X_sm_t)\n",
    "\n",
    "# print classification report\n",
    "print(classification_report(y_sm_t, grid_predictions))\n"
   ]
  },
  {
   "cell_type": "code",
   "execution_count": 56,
   "metadata": {},
   "outputs": [],
   "source": [
    "from sklearn.metrics import roc_curve\n",
    "\n",
    "pred_prob1 = grid.predict_proba(X_test)\n",
    "# roc curve for model\n",
    "fpr1, tpr1, thresh1 = roc_curve(y_test, pred_prob1[:,1], pos_label=1)\n",
    "\n",
    "# roc curve for tpr = fpr \n",
    "random_probs = [0 for i in range(len(y_test))]\n",
    "p_fpr, p_tpr, _ = roc_curve(y_test, random_probs, pos_label=1)"
   ]
  },
  {
   "cell_type": "code",
   "execution_count": 57,
   "metadata": {},
   "outputs": [
    {
     "data": {
      "image/png": "[encoded data removed]",
      "text/plain": [
       "<Figure size 576x396 with 1 Axes>"
      ]
     },
     "metadata": {},
     "output_type": "display_data"
    }
   ],
   "source": [
    "import matplotlib.pyplot as plt\n",
    "plt.style.use('seaborn')\n",
    "plt.plot(fpr1, tpr1, linestyle='--',color='orange', label='Support Vector Machine')\n",
    "#plt.plot(p_fpr, p_tpr, linestyle='--', color='blue')\n",
    "plt.title('ROC curve')\n",
    "plt.xlabel('False Positive Rate')\n",
    "plt.ylabel('True Positive rate')\n",
    "\n",
    "plt.legend(loc='best')\n",
    "plt.savefig('ROC',dpi=300)\n",
    "plt.show();"
   ]
  },
  {
   "cell_type": "code",
   "execution_count": 58,
   "metadata": {},
   "outputs": [
    {
     "name": "stdout",
     "output_type": "stream",
     "text": [
      "0.9909276931713236\n"
     ]
    }
   ],
   "source": [
    "#AUC score\n",
    "from sklearn.metrics import roc_auc_score\n",
    "auc_score1 = roc_auc_score(y_test, pred_prob1[:,1])\n",
    "print(auc_score1)"
   ]
  },
  {
   "cell_type": "code",
   "execution_count": 45,
   "metadata": {},
   "outputs": [
    {
     "name": "stdout",
     "output_type": "stream",
     "text": [
      "TRAINIG RESULTS: \n",
      "===============================\n",
      "CONFUSION MATRIX:\n",
      "[[2571    1]\n",
      " [   0  515]]\n",
      "ACCURACY SCORE:\n",
      "0.9997\n",
      "CLASSIFICATION REPORT:\n",
      "                     0           1  accuracy    macro avg  weighted avg\n",
      "precision     1.000000    0.998062  0.999676     0.999031      0.999677\n",
      "recall        0.999611    1.000000  0.999676     0.999806      0.999676\n",
      "f1-score      0.999806    0.999030  0.999676     0.999418      0.999676\n",
      "support    2572.000000  515.000000  0.999676  3087.000000   3087.000000\n",
      "TESTING RESULTS: \n",
      "===============================\n",
      "CONFUSION MATRIX:\n",
      "[[1083   44]\n",
      " [   6  190]]\n",
      "ACCURACY SCORE:\n",
      "0.9622\n",
      "CLASSIFICATION REPORT:\n",
      "                     0           1  accuracy    macro avg  weighted avg\n",
      "precision     0.994490    0.811966  0.962207     0.903228      0.967450\n",
      "recall        0.960958    0.969388  0.962207     0.965173      0.962207\n",
      "f1-score      0.977437    0.883721  0.962207     0.930579      0.963553\n",
      "support    1127.000000  196.000000  0.962207  1323.000000   1323.000000\n"
     ]
    }
   ],
   "source": [
    "evaluate(grid, X_sm_t, X_test, y_sm_t, y_test)"
   ]
  },
  {
   "cell_type": "markdown",
   "metadata": {},
   "source": [
    "do not include just for reference"
   ]
  },
  {
   "cell_type": "code",
   "execution_count": null,
   "metadata": {},
   "outputs": [],
   "source": []
  },
  {
   "cell_type": "code",
   "execution_count": null,
   "metadata": {},
   "outputs": [],
   "source": [
    "# svm_clf_g =SVC(C=1000, gamma=0.0001,probability=True,random_state =0) \n",
    "# svm_clf_g.fit(X_t, y_t)"
   ]
  },
  {
   "cell_type": "code",
   "execution_count": null,
   "metadata": {},
   "outputs": [],
   "source": [
    "# y_g_p=svm_clf_g.predict(X_test)#testing\n",
    "# print(y_g_p)"
   ]
  },
  {
   "cell_type": "code",
   "execution_count": null,
   "metadata": {},
   "outputs": [],
   "source": [
    "\n",
    "# y_train_g = svm_clf_g.predict(X_t)"
   ]
  },
  {
   "cell_type": "code",
   "execution_count": null,
   "metadata": {},
   "outputs": [],
   "source": [
    "# print(y_train_g)"
   ]
  },
  {
   "cell_type": "code",
   "execution_count": null,
   "metadata": {},
   "outputs": [],
   "source": [
    "# print (metrics.confusion_matrix(y_test, y_g_p))"
   ]
  },
  {
   "cell_type": "code",
   "execution_count": null,
   "metadata": {},
   "outputs": [],
   "source": [
    "\n",
    "# print(\"Testing Accuracy: \", svm_clf.score(X_test, y_test))"
   ]
  },
  {
   "cell_type": "code",
   "execution_count": null,
   "metadata": {},
   "outputs": [],
   "source": [
    "# from sklearn.model_selection import cross_val_score\n",
    "# score=cross_val_score(svm_clf,X_t,y_t,cv=1000)"
   ]
  },
  {
   "cell_type": "code",
   "execution_count": null,
   "metadata": {},
   "outputs": [],
   "source": []
  },
  {
   "cell_type": "markdown",
   "metadata": {},
   "source": [
    "## Xgboost"
   ]
  },
  {
   "cell_type": "code",
   "execution_count": null,
   "metadata": {},
   "outputs": [],
   "source": [
    "# from xgboost import XGBClassifier"
   ]
  },
  {
   "cell_type": "code",
   "execution_count": null,
   "metadata": {},
   "outputs": [],
   "source": [
    "# Split the dataset into 80% Training set and 30% Testing set\n",
    "# from sklearn.model_selection import train_test_split\n",
    "# X_train, X_test, y_train, y_test = train_test_split(X_sm, y_sm, test_size = 0.2, random_state = 0)"
   ]
  },
  {
   "cell_type": "code",
   "execution_count": null,
   "metadata": {},
   "outputs": [],
   "source": [
    "# xgb_clf = XGBClassifier()\n",
    "# xgb_clf.fit(X_train, y_train)"
   ]
  },
  {
   "cell_type": "code",
   "execution_count": null,
   "metadata": {},
   "outputs": [],
   "source": [
    "# y_pred = xgb_clf.predict(X_test)"
   ]
  },
  {
   "cell_type": "code",
   "execution_count": null,
   "metadata": {},
   "outputs": [],
   "source": [
    "# y_pred"
   ]
  },
  {
   "cell_type": "code",
   "execution_count": null,
   "metadata": {},
   "outputs": [],
   "source": [
    "# from sklearn.metrics import confusion_matrix  \n"
   ]
  },
  {
   "cell_type": "code",
   "execution_count": null,
   "metadata": {},
   "outputs": [],
   "source": [
    "# cm= confusion_matrix(y_test, y_pred)  \n",
    "# print(cm)"
   ]
  },
  {
   "cell_type": "code",
   "execution_count": null,
   "metadata": {},
   "outputs": [],
   "source": [
    "# from sklearn.metrics import accuracy_score"
   ]
  },
  {
   "cell_type": "code",
   "execution_count": null,
   "metadata": {},
   "outputs": [],
   "source": [
    "# accuracy = accuracy_score(y_test, y_pred)\n",
    "# print(accuracy)"
   ]
  },
  {
   "cell_type": "code",
   "execution_count": null,
   "metadata": {},
   "outputs": [],
   "source": [
    "\n",
    "\n",
    "# from xgboost import XGBClassifier\n",
    "# from xgboost import plot_importance\n",
    "# from matplotlib import pyplot# plot feature importance using built-in function\n"
   ]
  },
  {
   "cell_type": "code",
   "execution_count": null,
   "metadata": {},
   "outputs": [],
   "source": [
    "# plot_importance(xgb_clf)\n",
    "# pyplot.show()\n"
   ]
  },
  {
   "cell_type": "code",
   "execution_count": null,
   "metadata": {},
   "outputs": [],
   "source": [
    "# from sklearn.metrics import confusion_matrix, accuracy_score, classification_report, roc_auc_score\n",
    "\n",
    "# def evaluate(model, X_train, X_test, y_train, y_test):\n",
    "#     y_test_pred = model.predict(X_test)\n",
    "#     y_train_pred = model.predict(X_train)\n",
    "\n",
    "#     print(\"TRAINIG RESULTS: \\n=================-==============\")\n",
    "#     clf_report = pd.DataFrame(classification_report(y_train, y_train_pred, output_dict=True))\n",
    "#     print(f\"CONFUSION MATRIX:\\n{confusion_matrix(y_train, y_train_pred)}\")\n",
    "#     print(f\"ACCURACY SCORE:\\n{accuracy_score(y_train, y_train_pred):.4f}\")\n",
    "#     print(f\"CLASSIFICATION REPORT:\\n{clf_report}\")\n",
    "\n",
    "#     print(\"TESTING RESULTS: \\n===============================\")\n",
    "#     clf_report = pd.DataFrame(classification_report(y_test, y_test_pred, output_dict=True))\n",
    "#     print(f\"CONFUSION MATRIX:\\n{confusion_matrix(y_test, y_test_pred)}\")\n",
    "#     print(f\"ACCURACY SCORE:\\n{accuracy_score(y_test, y_test_pred):.4f}\")\n",
    "#     print(f\"CLASSIFICATION REPORT:\\n{clf_report}\")"
   ]
  },
  {
   "cell_type": "code",
   "execution_count": null,
   "metadata": {},
   "outputs": [],
   "source": [
    "# xgb_clf = XGBClassifier()\n",
    "# xgb_clf.fit(X_train, y_train)\n",
    "\n",
    "# evaluate(xgb_clf, X_train, X_test, y_train, y_test)"
   ]
  },
  {
   "cell_type": "code",
   "execution_count": null,
   "metadata": {},
   "outputs": [],
   "source": [
    "# print(\"Training Accuracy: \", xgb_clf.score(X_train,y_train))\n",
    "# print(\"Testing Accuracy: \",  xgb_clf.score(X_test, y_test))"
   ]
  },
  {
   "cell_type": "markdown",
   "metadata": {},
   "source": [
    "## Hyperparameter tunning"
   ]
  },
  {
   "cell_type": "code",
   "execution_count": null,
   "metadata": {},
   "outputs": [],
   "source": [
    "## Hyper Parameter Optimization\n",
    "\n",
    "# params={\n",
    "#  \"learning_rate\"    : [0.05, 0.10, 0.15, 0.20, 0.25, 0.30 ] ,\n",
    "#  \"max_depth\"        : [ 3, 4, 5, 6, 8, 10, 12, 15],\n",
    "#  \"min_child_weight\" : [ 1, 3, 5, 7 ],\n",
    "#  \"gamma\"            : [ 0.0, 0.1, 0.2 , 0.3, 0.4 ],\n",
    "#  \"colsample_bytree\" : [ 0.3, 0.4, 0.5 , 0.7 ]\n",
    "    \n",
    "# }"
   ]
  },
  {
   "cell_type": "code",
   "execution_count": null,
   "metadata": {},
   "outputs": [],
   "source": [
    "## Hyperparameter optimization using RandomizedSearchCV\n",
    "# from sklearn.model_selection import RandomizedSearchCV, GridSearchCV"
   ]
  },
  {
   "cell_type": "code",
   "execution_count": null,
   "metadata": {},
   "outputs": [],
   "source": [
    "# import xgboost"
   ]
  },
  {
   "cell_type": "code",
   "execution_count": null,
   "metadata": {},
   "outputs": [],
   "source": [
    "# classifier=xgboost.XGBClassifier()\n"
   ]
  },
  {
   "cell_type": "code",
   "execution_count": null,
   "metadata": {},
   "outputs": [],
   "source": [
    "# random_search=RandomizedSearchCV(classifier,param_distributions=params,n_iter=5,scoring='roc_auc',n_jobs=-1,cv=5,verbose=3)"
   ]
  },
  {
   "cell_type": "code",
   "execution_count": null,
   "metadata": {},
   "outputs": [],
   "source": [
    "# random_search.fit(X_train,y_train)"
   ]
  },
  {
   "cell_type": "code",
   "execution_count": null,
   "metadata": {},
   "outputs": [],
   "source": [
    "# random_search.best_estimator_"
   ]
  },
  {
   "cell_type": "code",
   "execution_count": null,
   "metadata": {},
   "outputs": [],
   "source": [
    "# random_search.best_params_"
   ]
  },
  {
   "cell_type": "code",
   "execution_count": null,
   "metadata": {},
   "outputs": [],
   "source": [
    "# classifier=xgboost.XGBClassifier(base_score=0.5, booster='gbtree', colsample_bylevel=1,\n",
    "#               colsample_bynode=1, colsample_bytree=0.3,\n",
    "#               enable_categorical=False, gamma=0.3, gpu_id=-1,\n",
    "#               importance_type=None, interaction_constraints='',\n",
    "#               learning_rate=0.15, max_delta_step=0, max_depth=15,\n",
    "#               min_child_weight=3, monotone_constraints='()',\n",
    "#               n_estimators=100, n_jobs=4, num_parallel_tree=1, predictor='auto',\n",
    "#               random_state=0, reg_alpha=0, reg_lambda=1, scale_pos_weight=1,\n",
    "#               subsample=1, tree_method='exact', validate_parameters=1,\n",
    "#               verbosity=None)\n"
   ]
  },
  {
   "cell_type": "code",
   "execution_count": null,
   "metadata": {},
   "outputs": [],
   "source": [
    "# from sklearn.model_selection import cross_val_score\n",
    "# score=cross_val_score(classifier,X_train,y_train,cv=10)"
   ]
  },
  {
   "cell_type": "code",
   "execution_count": null,
   "metadata": {},
   "outputs": [],
   "source": [
    "# score"
   ]
  },
  {
   "cell_type": "code",
   "execution_count": null,
   "metadata": {},
   "outputs": [],
   "source": [
    "# score.mean()"
   ]
  },
  {
   "cell_type": "code",
   "execution_count": null,
   "metadata": {},
   "outputs": [],
   "source": [
    "# from sklearn import model_selection"
   ]
  },
  {
   "cell_type": "code",
   "execution_count": null,
   "metadata": {},
   "outputs": [],
   "source": []
  },
  {
   "cell_type": "code",
   "execution_count": null,
   "metadata": {},
   "outputs": [],
   "source": [
    "# fit_params = {\n",
    "# 'early_stopping_rounds': 30,\n",
    "# 'eval_metric': 'mae',\n",
    "# 'eval_set': [[X_train,y_train]]\n",
    "# }\n",
    "\n"
   ]
  },
  {
   "cell_type": "code",
   "execution_count": null,
   "metadata": {},
   "outputs": [],
   "source": [
    "# from sklearn.model_selection import GridSearchCV as cv"
   ]
  },
  {
   "cell_type": "code",
   "execution_count": null,
   "metadata": {},
   "outputs": [],
   "source": [
    "# import xgboost as xgb\n",
    "# from sklearn.model_selection import KFold as kfold"
   ]
  },
  {
   "cell_type": "code",
   "execution_count": null,
   "metadata": {},
   "outputs": [],
   "source": [
    "# !pip install scikit-learn==0.20.3"
   ]
  },
  {
   "cell_type": "code",
   "execution_count": null,
   "metadata": {},
   "outputs": [],
   "source": [
    "# # grid = model_selection.GridSearchCV(classifier, params, cv=5, fit_params=fit_params)\n",
    "# model=xgb.XGBClassifier()\n",
    "# clf = GridSearchCV(model, params,\n",
    "#                          fit_params={'early_stopping_rounds':20,\\\n",
    "#                          'eval_set':[(X_train,y_train)]},cv=kfold)"
   ]
  },
  {
   "cell_type": "code",
   "execution_count": null,
   "metadata": {},
   "outputs": [],
   "source": [
    "# grid.fit(X_train,y_train)"
   ]
  }
 ],
 "metadata": {
  "kernelspec": {
   "display_name": "Python 3",
   "language": "python",
   "name": "python3"
  },
  "language_info": {
   "codemirror_mode": {
    "name": "ipython",
    "version": 3
   },
   "file_extension": ".py",
   "mimetype": "text/x-python",
   "name": "python",
   "nbconvert_exporter": "python",
   "pygments_lexer": "ipython3",
   "version": "3.8.3"
  }
 },
 "nbformat": 4,
 "nbformat_minor": 5
}
